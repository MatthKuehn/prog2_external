{
 "cells": [
  {
   "cell_type": "markdown",
   "id": "e0b07846",
   "metadata": {},
   "source": [
    "# Klausurvorbereitung Prog 2\n",
    "\n",
    "- Fragen zum Miniprojekt\n",
    "- Sql\n",
    "- Python Basics \n",
    "- UML\n",
    "- OOP\n",
    "- PHP + HTML\n",
    "- Pytest\n",
    "\n",
    "\n",
    "Bitte beachten Sie:\n",
    "- Die Aufgaben bilden den Schwierigkeitsgrad der Klausur ab.\n",
    "- Die Aufgaben bilden nicht den inhaltlichen Umfang ab. bzgl. des klausurrelevanten Stoffes können Sie sich an den Vorlesungsfolien orientieren\n",
    "- Die Aufgaben bilden auch nicht den zeitlichen Umfang der Klausur ab "
   ]
  },
  {
   "cell_type": "markdown",
   "id": "96bbf21b",
   "metadata": {},
   "source": [
    "### Miniprojekt 1 \n",
    "\n",
    "In Ihrem Miniprojekt hatten Sie unter anderem die Herausforderung, Daten zu sammeln. \n",
    "\n",
    "1. in welcher Form (Datenbank etc.) und welchem Datenformat haben Sie die Daten abgelegt?\n",
    "2. um welche Art von Daten hat es sich dabei gehandelt? Beschreiben Sie, welche Daten abgespeichert wurden und welcher Datentyp verwendet wurde\n",
    "3. Skizzieren Sie das Tabellenformat, dass Sie dabei gewählt haben"
   ]
  },
  {
   "cell_type": "markdown",
   "id": "14064a7f",
   "metadata": {
    "vscode": {
     "languageId": "plaintext"
    }
   },
   "source": [
    "*Ihre Lösung*"
   ]
  },
  {
   "cell_type": "markdown",
   "id": "a9e24353",
   "metadata": {},
   "source": [
    "### Miniprojekt 2\n",
    "\n",
    "Beschreiben Sie, ob und wie Sie Ihr Miniprojekt modular aufgebaut haben (oder hätten).\n",
    "1. Beschreiben Sie - auch unter der Nutzung einer Skizze - wie die Klassen Ihren Projekts zusammenhängen (oder zusammenhängen könnten)\n",
    "2. Gehen Sie auch darauf ein, wie Sie Ihr Projekt erweitern könnten, um stärker Konzepte wie Vererbung, Kapselung oder Polymorphismus zu nutzen. Wenn Sie dies bereits tun, gehen Sie auch darauf ein, in welcher Form dies geschieht"
   ]
  },
  {
   "cell_type": "markdown",
   "id": "b94f5a18",
   "metadata": {},
   "source": [
    "*Ihre Lösung*"
   ]
  },
  {
   "cell_type": "markdown",
   "id": "748fe8ec",
   "metadata": {},
   "source": [
    "### SQL und Datenbanksysteme\n",
    "Mithilfe folgender Query wurde eine Tabelle in einer Datenbank angelegt:\n",
    "```\n",
    "    CREATE TABLE students (\n",
    "        ID INT NOT NULL AUTO_INCREMENT PRIMARY KEY,\n",
    "        Surname VARCHAR(50),\n",
    "        Fullname VARCHAR(100),\n",
    "        Grade DECIMAL(3,1),\n",
    "        City VARCHAR(100)\n",
    "        );\n",
    "```\n",
    "\n",
    "später wurden Daten eingepflegt. \n",
    "```\n",
    "INSERT INTO students (Surname, Fullname, Grade, City)\n",
    "VALUES \n",
    "\t('Manuel', 'Fellner', 1.3, 'Kufstein'),\n",
    "\t('Moritz', 'Leitner',2.0,'Engelberg'),\n",
    "    ('Alexandra','Popp',4.0,'Nonnenhorn'),\n",
    "    ('Iga', 'Swiatek',1.0,'Kempten'),\n",
    "    ('Lorenzo','vonMatterhorn',3.3,'Sonthofen');\n",
    "```\n",
    "\n",
    "Das SQL-Statement\n",
    "\n",
    "`SELECT * FROM Students;`\n",
    "\n",
    "liefert die folgenden Daten aus einer Datenbank:\n",
    "\n",
    "\n",
    "| ID | Surname   | Fullname        | Grade | City       |\n",
    "|----|-----------|-----------------|-------|------------|\n",
    "| 1  | Manuel    | Fellner         | 1.3   | Kufstein   |\n",
    "| 2  | Moritz    | Leitner         | 2.0   | Engelberg  |\n",
    "| 3  | Alexandra | Popp            | 4.0   | Nonnenhorn |\n",
    "| 4  | Iga       | Swiatek         | 1.0   | Kempten    |\n",
    "| 5  | Lorenzo   | vonMatterhorn      | 3.3   | Sonthofen  |\n",
    "\n",
    "\n",
    "1. Wie heißt die Tabelle (der Table) der Datenbank?\n",
    "2. Über wieviele Spalten verfügt die gesamte Tabelle?\n",
    "3. Die Spalte `ID` hat einige Eigenschaften. Nennen Sie diese und beschreiben Sie, was diese tun und warum die Eigenschaften so gewählt wurden\n",
    "4. Gegeben ist das folgende Statement:\n",
    "```\n",
    "SELECT  Fullname, Surname, City\n",
    "FROM Students\n",
    "WHERE Grade <3\n",
    "ORDER BY Grade ASC;\n",
    "```\n",
    "\n",
    "Geben Sie die resultierenden Daten in Form einer Tabelle an, die dieses SQLStatement\n",
    "liefert.\n",
    "\n",
    "\n",
    "\n"
   ]
  },
  {
   "cell_type": "markdown",
   "id": "a18f45cb",
   "metadata": {},
   "source": [
    "*Ihre Lösung:*\n"
   ]
  },
  {
   "cell_type": "markdown",
   "id": "8f355c40",
   "metadata": {},
   "source": [
    "### Python Basics\n",
    "\n",
    "**1. Dictionary**\n",
    "\n",
    "Sie erhalten einen String `wort` und ein Dictionary `woerterbuch`, das Wörter als Schlüssel enthält und z. B. deren Übersetzung oder Bedeutung als Wert speichert.\n",
    "\n",
    "Ihre Aufgabe ist es, zu überprüfen, ob das eingegebene Wort im Wörterbuch enthalten ist (sprich als key). Wenn ja, soll die zugehörige Bedeutung (der Wert des keys) ausgegeben werden. Falls nicht, soll eine entsprechende Mitteilung angezeigt werden."
   ]
  },
  {
   "cell_type": "code",
   "execution_count": null,
   "id": "956e09fb",
   "metadata": {},
   "outputs": [],
   "source": [
    "wort = \"Apfel\"\n",
    "\n",
    "woerterbuch = {\n",
    "    \"Apfel\": \"apple\",\n",
    "    \"Banane\": \"banana\",\n",
    "    \"Kirsche\": \"cherry\"\n",
    "}"
   ]
  },
  {
   "cell_type": "markdown",
   "id": "bc3cd3a6",
   "metadata": {},
   "source": [
    "Implementieren Sie eine Funktion `suche_wort(wort, woerterbuch)`, die:\n",
    "\n",
    "- überprüft, ob `wort` ein Schlüssel im Dictionary `woerterbuch` ist\n",
    "- bei einem Treffer den Wert ausgibt, z. B.: `Apfel bedeutet auf Englisch: apple`,\n",
    "- ansonsten eine Nachricht ausgibt, z. B.: `Das Wort 'Apfel' ist nicht im Wörterbuch enthalten.`\n",
    "\n",
    "**Gerüst für Ihre Lösung:**"
   ]
  },
  {
   "cell_type": "code",
   "execution_count": null,
   "id": "fcaabf3d",
   "metadata": {},
   "outputs": [],
   "source": [
    "# Ihre Lösung:\n",
    "\n",
    "def suche_wort(wort, woerterbuch):\n",
    "    # Ergänzen Sie hier Ihren Code\n",
    "    pass\n",
    "\n",
    "# Funktionsaufruf zur Demonstration\n",
    "suche_wort(\"Apfel\", woerterbuch)"
   ]
  },
  {
   "cell_type": "markdown",
   "id": "8f1d7a84",
   "metadata": {},
   "source": [
    "**2. Zahlenanalyse**\n",
    "\n",
    "Schreiben Sie ein Skript, das eine ganze Zahl vom Benutzer einliest und dann Folgendes ausgibt:\n",
    "- ob die Zahl gerade oder ungerade ist,\n",
    "- ob die Zahl positiv, negativ oder null ist,\n",
    "- ob die Zahl ein Vielfaches von 3 ist.\n",
    "\n",
    "Nutzen Sie: \n",
    "- `input()` und `int()`\n",
    "- if, elif, else für Bedingungen\n",
    "- `%` (Modulo) zur Prüfung der Teilbarkeit\n",
    "\n",
    "Zählen Sie, wieviele Bedingungen erfüllt wurden\n"
   ]
  },
  {
   "cell_type": "code",
   "execution_count": null,
   "id": "0517e687",
   "metadata": {},
   "outputs": [],
   "source": [
    "zahl = int(input(\"Bitte geben Sie eine ganze Zahl ein: \"))\n",
    "\n",
    "# 1. Gerade oder ungerade\n",
    "# 2. Positiv, negativ oder null\n",
    "# 3. Vielfaches von 3"
   ]
  },
  {
   "cell_type": "code",
   "execution_count": null,
   "id": "f90d9f04",
   "metadata": {},
   "outputs": [],
   "source": [
    "# Ihre Lösung\n"
   ]
  },
  {
   "cell_type": "markdown",
   "id": "06b9412d",
   "metadata": {},
   "source": [
    "### UML to Code\n",
    "\n",
    "Sie erhalten ein UML-Klassendiagramm in textueller Form. Ihre Aufgabe ist es, den dazugehörigen Python-Code zu schreiben. \n",
    "\n",
    "Achten Sie auf: \n",
    "- Sichtbarkeit (öffentlich, privat, ...) \n",
    "- Vererbung\n",
    "- korrekte Nutzung von super() bei Vererbung\n",
    "- Attribute mit Konstruktor (__init__)\n",
    "\n",
    "\n",
    "**UML mit den Klassen Fahrzeug und Auto:**\n",
    "```mermaid\n",
    "classDiagram\n",
    "    class Fahrzeug {\n",
    "        - marke: str\n",
    "        - baujahr: int\n",
    "        + __init__(marke: str, baujahr: int)\n",
    "        + starten(): void\n",
    "        + stoppen(): void\n",
    "    }\n",
    "\n",
    "    class Auto {\n",
    "        - anzahl_tueren: int\n",
    "        + __init__(marke: str, baujahr: int, anzahl_tueren: int)\n",
    "        + hupen(): void\n",
    "        + info(): void\n",
    "    }\n",
    "\n",
    "    Fahrzeug <|-- Auto\n",
    "    ```"
   ]
  },
  {
   "cell_type": "code",
   "execution_count": null,
   "id": "9f819c06",
   "metadata": {},
   "outputs": [],
   "source": [
    "# Ihre Lösung:"
   ]
  },
  {
   "cell_type": "markdown",
   "id": "52f450b9",
   "metadata": {},
   "source": [
    "### Objektorientierte Programmierung\n",
    "\n",
    "Sie erhalten zwei Python-Klassen: Hund und Katze. Beide Klassen haben:\n",
    "- einen eigenen Konstruktor mit individuellen Attributen,\n",
    "- zwei Methoden, die das Verhalten der Tiere modellieren.\n",
    "\n",
    "**Aufgabe:**\n",
    "1. Was sind die Gemeinsamkeiten zwischen den beiden Klassen (--> das müssten Sie in der Klausur als Text beschreiben)\n",
    "2. Erstellen Sie eine geeignete Elternklasse Tier. "
   ]
  },
  {
   "cell_type": "code",
   "execution_count": null,
   "id": "1fdaf2aa",
   "metadata": {},
   "outputs": [],
   "source": [
    "## OOP Übung\n",
    "class Hund:\n",
    "    def __init__(self, name, rasse):\n",
    "        self.name = name\n",
    "        self.rasse = rasse\n",
    "\n",
    "    def laut_geben(self):\n",
    "        print(f\"{self.name} bellt: Wuff!\")\n",
    "\n",
    "    def spielen(self):\n",
    "        print(f\"{self.name} jagt den Ball.\")\n",
    "\n",
    "\n",
    "class Katze:\n",
    "    def __init__(self, name, farbe):\n",
    "        self.name = name\n",
    "        self.farbe = farbe\n",
    "\n",
    "    def laut_geben(self):\n",
    "        print(f\"{self.name} miaut: Miau!\")\n",
    "\n",
    "    def schlafen(self):\n",
    "        print(f\"{self.name} schläft auf dem Sofa.\")\n"
   ]
  },
  {
   "cell_type": "code",
   "execution_count": null,
   "id": "62cb3395",
   "metadata": {},
   "outputs": [],
   "source": [
    "# Ihre Lösung"
   ]
  },
  {
   "cell_type": "markdown",
   "id": "f6500cad",
   "metadata": {},
   "source": [
    "### PHP + HTML\n",
    "\n",
    "Gegeben ist der untenstehende Code\n",
    "1. Nennen Sie die verwendeten Variablen\n",
    "2. Nennen Sie die Ausgabe, wenn die Homepage im Browser dargestellt wird"
   ]
  },
  {
   "cell_type": "code",
   "execution_count": null,
   "id": "14e5258e",
   "metadata": {},
   "outputs": [],
   "source": [
    "# PHP übung - Code kann hier nicht ausgeführt werden\n",
    "<!DOCTYPE html>\n",
    "<html lang=\"en\">\n",
    "<head>\n",
    "    <meta charset=\"UTF-8\">\n",
    "    <title>Jung, Erwachsen oder Alt?</title>\n",
    "</head>\n",
    "<body>\n",
    "    <?php\n",
    "        $vorname = \"Aitana\";\n",
    "        $nachname = \"Bonmati\";\n",
    "        $alter = 27;\n",
    "\n",
    "        echo \"<h2>Hallo, Frau $nachname!</h2>\";\n",
    "\n",
    "        if ($alter < 18) {\n",
    "            echo \"<p>Sie sind minderjährig</p>\";\n",
    "        } elseif ($alter >= 18 && $alter < 65) {\n",
    "            echo \"<p>Sie sind erwachsen.</p>\";\n",
    "        } else {\n",
    "            echo \"<p>Sie sind ein Silver Surfer.</p>\";\n",
    "        }\n",
    "    ?>\n",
    "</body>\n",
    "</html>"
   ]
  },
  {
   "cell_type": "markdown",
   "id": "5ca6e75c",
   "metadata": {},
   "source": [
    "*Ihre Lösung:*"
   ]
  },
  {
   "cell_type": "markdown",
   "id": "67119c9d",
   "metadata": {},
   "source": [
    "### Testen mit Pytest\n",
    "\n",
    "1. Ihr Softwarearchitekt weist Sie an, in der Datei `stringfunktionen.py` die Funktion `ist_palindrom(text)`, zu implementieren. Diese prüft, ob ein gegebener String ein Palindrom ist (also vorwärts und rückwärts gleich – z. B. \"otto\" oder \"Lagerregal\"). Funktion soll `true` zurückgeben, wenn es sich um ein Palindrom handelt und `false`, wenn dem nicht so ist. Die Funktion soll Leerzeichen oder Groß-/Kleinschreibung ignorieren.\n",
    "\n",
    "Hinweis: Nutzen Sie dazu die Slicing-Notation von Python: text[start:stop:step]. \n",
    "- start: erster Buchstabe eines Strings, der \"markiert\" wird\n",
    "- stop: letzter Buchstabe des Strings, der markiert wird\n",
    "- Wenn hier step=-1 gesetzt wird, wird durch den \n",
    "\n",
    "Beispiel: text = 'abcdef'\n",
    "\n",
    "|Ausdruck|\tErgebnis|\tErklärung|\n",
    "|--------|---------|----------|\n",
    "|text[1:4]|\t'bcd'\t|Von Index 1 bis 3|\n",
    "|text[:3]\t|'abc'\t|Von Anfang bis Index 2|\n",
    "|text[3:]\t|'def'\t|Von Index 3 bis Ende|\n",
    "|text[::2]\t|'ace'\t|Jedes 2. Zeichen|\n",
    "|text[::-1]\t|'fedcba'|\tRückwärts|\n",
    "|text[5:2:-1]\t|'fed'|\tRückwärts von Index 5 bis 3|\n",
    "\n",
    "\n",
    "- start ist inklusive\n",
    "- stop ist exklusiv, wird also nicht mitgenommen, siehe 1. Beispielzeile\n",
    "- Wenn step negativ ist: Richtung rückwärts\n",
    "\n"
   ]
  },
  {
   "cell_type": "code",
   "execution_count": null,
   "id": "6695f799",
   "metadata": {},
   "outputs": [],
   "source": [
    "# Hinweis: Datei: stringfunktionen.py\n",
    "# übung palindrom teil 1\n",
    "\n",
    "# Ihre Lösung:\n",
    "def ist_palindrom(text):\n",
    "    # entferne Leerzeichen, ignoriere Groß-/Kleinschreibung\n",
    "    text = text.replace(\" \", \"\").lower()\n",
    "    #....hier implementieren...\n",
    "    #....\n"
   ]
  },
  {
   "cell_type": "markdown",
   "id": "02f38879",
   "metadata": {},
   "source": [
    "2. Der Softwarearchitekt gibt weiterhin vor, dass Sie in der Datei `test_stringfunktionen.py` Tests auf Basis von Pytest schreiben, die die folgenden Strings abfragen: \n",
    "- 'otto'\n",
    "- 'Anna'\n",
    "- 'Lager regal'\n",
    "- 'Hund'"
   ]
  },
  {
   "cell_type": "code",
   "execution_count": null,
   "id": "3b9e3751",
   "metadata": {},
   "outputs": [],
   "source": [
    "#Ihre Lösung..."
   ]
  }
 ],
 "metadata": {
  "kernelspec": {
   "display_name": "prog2",
   "language": "python",
   "name": "python3"
  },
  "language_info": {
   "codemirror_mode": {
    "name": "ipython",
    "version": 3
   },
   "file_extension": ".py",
   "mimetype": "text/x-python",
   "name": "python",
   "nbconvert_exporter": "python",
   "pygments_lexer": "ipython3",
   "version": "3.12.9"
  }
 },
 "nbformat": 4,
 "nbformat_minor": 5
}
