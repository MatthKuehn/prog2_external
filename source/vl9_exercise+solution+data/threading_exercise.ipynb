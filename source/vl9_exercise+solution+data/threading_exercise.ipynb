{
 "cells": [
  {
   "cell_type": "markdown",
   "id": "7e3d8d1a",
   "metadata": {},
   "source": [
    "## Threading und Multiprocessing"
   ]
  },
  {
   "cell_type": "markdown",
   "id": "6c77a434",
   "metadata": {},
   "source": [
    "- Erstellen Sie ein Python-Programm, das mehrere Threads startet\n",
    "- Jeder Thread soll Ihren Namen und die ID des Threads auf der Konsole ausgeben \n",
    "- Definieren Sie dazu eine Funktion \"nachricht_drucken(name)\", die fünfmal Ihre Nachricht ausgibt\n",
    "- Erzeugen Sie drei Threads, die jeweils diese Funktion mit einem eigenen Namen (z. B. „Thread Anke“, „Thread Claire“, „Thread Janosch“) ausführen.\n",
    "- Starten Sie die Threads.\n",
    "- Warten Sie mit join() auf das Ende aller Threads."
   ]
  },
  {
   "cell_type": "code",
   "execution_count": null,
   "id": "2bcf4f38",
   "metadata": {},
   "outputs": [],
   "source": [
    "import threading\n",
    "import time\n",
    "\n",
    "\n",
    "print(\"Alle Threads haben ihre Nachrichten ausgegeben.\")"
   ]
  },
  {
   "cell_type": "markdown",
   "id": "9d7cce0e",
   "metadata": {},
   "source": [
    "- Simulieren Sie eine Datenbank als gemeinsame Liste database = []\n",
    "- Erstellen Sie eine Funktion insert_student(name), die einen Eintrag wie {\"name\": name} zur Liste hinzufügt.\n",
    "- Erstellen Sie 5 Threads, die jeweils 100 zufällige Namen erzeugen und in die Datenbank schreiben.\n",
    "- geben Sie am Ende die Anzahl der Einträge in der \"Datenbank\" aus.\n",
    "\n",
    "\n"
   ]
  },
  {
   "cell_type": "code",
   "execution_count": null,
   "id": "ac45ebd4",
   "metadata": {},
   "outputs": [],
   "source": [
    "import threading\n",
    "import random\n",
    "import string\n",
    "\n",
    "database = []\n",
    "\n",
    "\n",
    "\n",
    "print(\"Anzahl der Studierenden in der Datenbank:\", len(database))"
   ]
  },
  {
   "cell_type": "markdown",
   "id": "7088ff30",
   "metadata": {},
   "source": [
    "- Verwenden/implementieren Sie einen Lock, um Race Conditions zu vermeiden\n",
    "- Diskutieren Sie: Sind Race Conditions hier möglich?"
   ]
  },
  {
   "cell_type": "markdown",
   "id": "c4d1ea8a",
   "metadata": {},
   "source": [
    "- Erstellen Sie eine Funktion, die in zwei Threads prüft, ob eine Zahl eine Primzahl ist.\n",
    "- damit das ganze schneller läuft, sollen sich die beiden Threads die Primzahlen teilen.\n",
    "- Führen Sie die Teilung zunächst so durch, dass sie eine globale liste erstellen und diese Liste vor dem Start teilen\n",
    "- messen Sie, wie lange das ganze gedauert hat"
   ]
  },
  {
   "cell_type": "code",
   "execution_count": null,
   "id": "cdf248c1",
   "metadata": {},
   "outputs": [],
   "source": [
    "import threading\n",
    "import time\n",
    "\n",
    "# globale Liste mit Zahlen, die auf primzahligkeit geprüft werden\n",
    "numbers = [17, 18, 19, 20, 21, 22, 23, 24, 25, 29, 259, 59, 67, 83, 109, 127, 157, 179, 191, 211, \n",
    "           241, 277, 288, 283, 331, 390,353, 367, 401, 431, 461, 444,509, 547, 563,900\n",
    "             ,555,587, 599, 617, 709, 739, 773, 797, 859]\n",
    "\n",
    "\n",
    "\n",
    "# Split the list into two halves\n",
    "mid = len(numbers) // 2\n",
    "teil1 = numbers[:mid]\n",
    "teil2 = numbers[mid:]\n",
    "\n",
    "\n",
    "print(\"Zeit in Sekunden:\", end - start)"
   ]
  },
  {
   "cell_type": "markdown",
   "id": "cced1dbc",
   "metadata": {},
   "source": [
    "- Erstellen Sie jetzt dieselbe Funktion nochmal, jedoch so, dass 2 threads abwechselnd auf die Liste \"numbers\" zugreifen\n",
    "- sobald eine Zahl geprüft wird, soll diese aus der Liste gelöscht werden\n",
    "- Hinweis: um zu vermeiden, dass die beidne Threads zeitgleich auf dieselbe zahl zugreifen, muss die Liste gelocked werden, solange einer der threads zugreift."
   ]
  },
  {
   "cell_type": "code",
   "execution_count": null,
   "id": "9990aafa",
   "metadata": {},
   "outputs": [],
   "source": [
    "import threading\n",
    "import time\n",
    "\n",
    "# globale Liste mit Zahlen, die auf primzahligkeit geprüft werden\n",
    "numbers = [17, 18, 19, 20, 21, 22, 23, 24, 25, 29, 259, 59, 67, 83, 109, 127, 157, 179, 191, 211, \n",
    "           241, 277, 288, 283, 331, 390,353, 367, 401, 431, 461, 444,509, 547, 563,900\n",
    "             ,555,587, 599, 617, 709, 739, 773, 797, 859]\n",
    "\n",
    "print(\"Zeit in Sekunden:\", end - start)\n"
   ]
  },
  {
   "cell_type": "markdown",
   "id": "9cffe167",
   "metadata": {},
   "source": [
    "### Multiprocessing vs. Multithreading\n",
    "\n",
    "Sie sollen berechnen, wieviel Strom eine Familie aus ihrer PV-Anlage selbst nutzen kann und wieviel sie verschenkt. Die dazu erforderlichen Daten liegen in einer nervigen Form vor, daher sollen Sie diese zunächst in eine Datenbank schreiben und anschließend wieder auslesen, um die Nutzun zu berechnen...\n",
    "\n",
    "- in moodle unter vl9..\\data liegen Daten für die Erzeugung von Strom aus einer PV-Anlage und für die Stromnachfrage eines Haushalts. Die Daten liegen in csv-Dateien in stündlicher Auflösung tageweise vor (1 Datei pro Tag sowohl für die PV-Anlage als auch die Stromnachfrage)\n",
    "- das ist lästig, lesen Sie daher die csv-Dateien ein. Damit das schneller geht, erstellen Sie Threads, die sich die Dateien aufteilen\n",
    "    - thread 1 übernimmt die PV-Daten\n",
    "    - Thread 2 übernimmt die Lastdaten\n",
    "    - bauen Sie einen Sleep-Timer ein, damit es interessanter wird\n",
    "- schreiben Sie die die tageweisen Daten in zwei Tabellen (pv bzw. last) in ihrer mysql-Datenbank aus der dritten Übung. Hinweis: Verwenden Sie für die Benennung des Tables in der Mysql-Datenbank nicht einfach nur das Wort \"load\", dieses ist vorbelegt. Stattdessen last\n"
   ]
  },
  {
   "cell_type": "code",
   "execution_count": null,
   "id": "4d884e85",
   "metadata": {},
   "outputs": [],
   "source": [
    "import pandas as pd\n",
    "import os\n",
    "import sqlalchemy \n",
    "\n",
    "import threading\n",
    "import time\n",
    "os.chdir(\"C:\\\\Users\\\\kuehnbam\\\\Nextcloud\\\\prog2\\\\vl9\")\n",
    "\n",
    "user = \"root\"\n",
    "password = \"\"\n",
    "host = \"localhost\"\n",
    "port = 3306\n",
    "database = \"prog2\"\n",
    "\n",
    "# Verbindungs-URL zusammenbauen\n",
    "db_url = f\"mysql+pymysql://{user}:{password}@{host}:{port}/{database}\"\n",
    "# Neue Engine im Prozess erstellen\n",
    "engine = sqlalchemy.create_engine(db_url)\n",
    "\n",
    "print(\"Zeit in Sekunden:\", end - start)\n",
    "print('end of file')\n",
    "\n"
   ]
  },
  {
   "cell_type": "markdown",
   "id": "1c6a1e89",
   "metadata": {},
   "source": [
    "- Wenn das durch ist, lesen Sie die Daten im Ganzen wieder aus der Mysql aus und berechnen Sie, ob die Familie mit der PV-Anlage bilanziell einen Stromüberschuss generiert hat, indem Sie die Lastsumme von der PV-Summe abziehen"
   ]
  },
  {
   "cell_type": "code",
   "execution_count": null,
   "id": "35a16fcb",
   "metadata": {},
   "outputs": [],
   "source": [
    "query= \"SELECT * FROM pv\"\n"
   ]
  },
  {
   "cell_type": "markdown",
   "id": "347db801",
   "metadata": {},
   "source": [
    "- Erstellen Sie das Lesen der Dateien und das schreiben in die DB als echt paralleles Programm mit Multiprocessing mit 2 Kernen\n",
    "- vergleichen Sie, was schneller war\n",
    "- Hinweis: Das multiprocessing-Programm müssen Sie vermutlich außerhalb von Jupyter-Notebook in einer .py-Datei ausführen\n"
   ]
  },
  {
   "cell_type": "code",
   "execution_count": null,
   "id": "a8fb5d26",
   "metadata": {},
   "outputs": [],
   "source": [
    "import os\n",
    "import pandas as pd\n",
    "import sqlalchemy\n",
    "from multiprocessing import Process\n",
    "import time\n",
    "\n",
    "\n",
    "\n",
    "\n",
    "\n",
    "\n",
    "if __name__ == \"__main__\":\n",
    "    \n",
    "    print(\"Zeit in Sekunden:\", end - start)\n",
    "\n",
    "    print(\"End of file\")"
   ]
  },
  {
   "cell_type": "markdown",
   "id": "6bb857ab",
   "metadata": {},
   "source": [
    "<!-- - Diskutieren Sie, auf welche weise Sie diesen Prozesse noch verbessern können, wenn wirklich große Datenmengen ins Spiel kommen\n",
    "- Reflektieren Sie nochmals den Ausdruck if __name__ == \"__main__\":\n",
    "- Testen Sie den Prozess auch noch mit einer Sqlite-Datei anstatt Ihrer mySql-Datenbank -->"
   ]
  },
  {
   "cell_type": "markdown",
   "id": "15659cf0",
   "metadata": {},
   "source": [
    "- Diskutieren Sie, auf welche weise Sie diesen Prozesse noch verbessern können, wenn wirklich große Datenmengen ins Spiel kommen\n",
    "- Reflektieren Sie den Einsatz von if __name__ == \"__main__\":\n",
    "- Testen Sie den Prozess auch noch mit einer Sqlite-Datei anstatt Ihrer mySql-Datenbank"
   ]
  }
 ],
 "metadata": {
  "kernelspec": {
   "display_name": "prog2",
   "language": "python",
   "name": "python3"
  },
  "language_info": {
   "codemirror_mode": {
    "name": "ipython",
    "version": 3
   },
   "file_extension": ".py",
   "mimetype": "text/x-python",
   "name": "python",
   "nbconvert_exporter": "python",
   "pygments_lexer": "ipython3",
   "version": "3.12.9"
  }
 },
 "nbformat": 4,
 "nbformat_minor": 5
}
