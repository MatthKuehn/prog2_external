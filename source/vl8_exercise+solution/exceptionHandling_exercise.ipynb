{
 "cells": [
  {
   "cell_type": "markdown",
   "id": "e549433c",
   "metadata": {},
   "source": [
    "## Exception Handling - try-except - raise\n",
    "**Und am Ende ein bisschen micropython-geeignete Grundlagen der Datenanalyse**\n",
    "\n",
    "--------------------"
   ]
  },
  {
   "cell_type": "markdown",
   "id": "d4dd3581",
   "metadata": {},
   "source": [
    "Der Code unen fragt nach dem Namen eine/r Studierenden und gibt seine/ihre Note zurück. \n",
    "Es nutzt eine Liste von gültigen Namen und ein Dictionary mit Noten.\n",
    "Das Programm soll robust gegenüber Eingabefehlern sein \n",
    "Schreiben Sie den Code so um, dass Exceptions abgefangen werden, z.B. \n",
    "- Eingabe falscher/unbekannter Name\n",
    "- Eingabe falscher Datentyp bzw. Zahl  statt Text etc.\n",
    "Machen Sie dies nicht allgemein mit *Exception*, sondern mit konkreten built-in Exceptions\n",
    "fügen Sie ebenfalls else und finally ein und ordnen Sie den beiden Befehlen jeweils die print-Statements zu\n"
   ]
  },
  {
   "cell_type": "code",
   "execution_count": null,
   "id": "b63f9963",
   "metadata": {},
   "outputs": [
    {
     "name": "stdout",
     "output_type": "stream",
     "text": [
      "0\n",
      "Nummer 0, Marta hat die Note 1.3.\n",
      "Programmende.\n"
     ]
    }
   ],
   "source": [
    "schueler = [\"Marta\", \"Thierry\", \"Deniz\"]\n",
    "noten = {\n",
    "    \"Martha\": 1.3,\n",
    "    \"Thierry\": 2.0,\n",
    "    \"Murat\": 1.7\n",
    "}\n",
    "name = input(\"Name Studierende/r: \")\n",
    "index = schueler.index(name)  # wirft ValueError, wenn Name nicht in Liste\n",
    "note = noten[name]\n",
    "\n",
    "print(f\"Student/in Nr. {index}, {name} hat die Note {note}.\")\n",
    "print(\"Programmende.\")"
   ]
  },
  {
   "cell_type": "code",
   "execution_count": null,
   "id": "04dcb249",
   "metadata": {},
   "outputs": [],
   "source": [
    "schueler = [\"Marta\", \"Thierry\", \"Deniz\"]\n",
    "noten = {\n",
    "    \"Marta\": 1.3,\n",
    "    \"Thierry\": 2.0,\n",
    "    \"Deniz\": 1.7\n",
    "}\n",
    "# und so weiter..."
   ]
  },
  {
   "cell_type": "markdown",
   "id": "023c150e",
   "metadata": {},
   "source": [
    "Jetzt soll unter Abfrage der Matrikelnummer der vollständige Name und der Studiengang der Studierenden ausgegeben werden.\n",
    "Potenzielle Fehlerquellen: \n",
    "- Eingabe ist keine Zahl\n",
    "- eingegebene Zahl existiert nicht \n",
    "Gegeben ist erneut der Code ohne aktives Abfangen von Exceptions. \n",
    "Fügen Sie diese ein.\n",
    "fügen Sie ebenfalls else und finally ein und ordnen Sie den beiden Befehlen jeweils die print-Statements zu"
   ]
  },
  {
   "cell_type": "code",
   "execution_count": null,
   "id": "a01172f3",
   "metadata": {},
   "outputs": [
    {
     "name": "stdout",
     "output_type": "stream",
     "text": [
      "Name: Alice Müller, Studiengang: Informatik\n"
     ]
    }
   ],
   "source": [
    "studierende = {\n",
    "    100001: {\"name\": \"Marta Müller\", \"studiengang\": \"Informatik\"},\n",
    "    100002: {\"name\": \"Thierry Schneider\", \"studiengang\": \"Maschinenbau\"},\n",
    "    100003: {\"name\": \"Deniz Yilmaz\", \"studiengang\": \"Tourismus\"}\n",
    "}\n",
    "\n",
    "eingabe = input(\"Matrikelnummer eingeben: \")\n",
    "matrikelnummer = int(eingabe)  # Kann ValueError werfen\n",
    "daten = studierende[matrikelnummer]  # Kann KeyError werfen\n",
    "\n",
    "print(f\"Name: {daten['name']}, Studiengang: {daten['studiengang']}\")\n",
    "print(\"Anfrage abgeschlossen.\")"
   ]
  },
  {
   "cell_type": "code",
   "execution_count": null,
   "id": "c9d743ae",
   "metadata": {},
   "outputs": [],
   "source": [
    "studierende = {\n",
    "    100001: {\"name\": \"Alice Müller\", \"studiengang\": \"Informatik\"},\n",
    "    100002: {\"name\": \"Bernd Schneider\", \"studiengang\": \"Maschinenbau\"},\n",
    "    100003: {\"name\": \"Clara Yilmaz\", \"studiengang\": \"Tourismus\"}\n",
    "}\n",
    "# und so weiter...\n"
   ]
  },
  {
   "cell_type": "markdown",
   "id": "17682a4d",
   "metadata": {},
   "source": [
    "**raise**\n",
    "\n",
    "Jetzt soll das Beispiel mit den Studierenden bzw. der Abfrage von deren Matr.-Nr. oben erneut umgeschrieben werden. Anstatt *try...except* soll dabei *raise* eingesetzt werden\n",
    "- die Eingabe über input() ist grundsätzlich vom Typ String\n",
    "- prüfen Sie durch eine if-Schleife, ob der eingegebene String ausschließlich Ziffern enthält --> wert.isdigit() = True\n",
    "- wenn dem nicht so ist, soll ein (passender) Fehler geworfen werden \n",
    "- wenn die Matrikelnummer nicht im dict mit den Studierenden als key auftaucht, soll ebenso ein Fehler geworfen werden\n"
   ]
  },
  {
   "cell_type": "code",
   "execution_count": null,
   "id": "2cc77c21",
   "metadata": {},
   "outputs": [],
   "source": [
    "studierende = {\n",
    "    100001: {\"name\": \"Marta Müller\", \"studiengang\": \"Informatik\"},\n",
    "    100002: {\"name\": \"Thierry Schneider\", \"studiengang\": \"Maschinenbau\"},\n",
    "    100003: {\"name\": \"Deniz Yilmaz\", \"studiengang\": \"Tourismus\"}\n",
    "}\n",
    "# try..."
   ]
  },
  {
   "cell_type": "markdown",
   "id": "dd6cd933",
   "metadata": {},
   "source": [
    "**Eigene Exception mit überschriebenem Konstruktor**\n",
    "\n",
    "- Schreiben Sie eine Funktion \"verarbeite_temperatur(temp)\", die prüft, ob ein Temperaturwert in einem erlaubten Bereich (zwischen min_wert und max_wert) liegt \n",
    "- Wenn nicht, wird eine eigene TemperaturFehler-Exception geworfen, die eine benutzerdefinierte Fehlermeldung speichert\n",
    "- Erstellen Sie dazu die Exception-Klasse \"TemperaturFehler(Exception) und deren Konstruktor __init__(self,temperatur, min_wert, max_wert)\n",
    "- der Fehler soll geraised werden, aber nicht zum Abbruch führen, rufen Sie daher die Funktion \"verarbeite_temperatur\" in einem try...except-Block auf"
   ]
  },
  {
   "cell_type": "code",
   "execution_count": null,
   "id": "c8a696e8",
   "metadata": {},
   "outputs": [
    {
     "name": "stdout",
     "output_type": "stream",
     "text": [
      "Fehler erkannt: Ungültige Temperatur: 85°C (erlaubt: -20–60°C)\n",
      "asdf -20\n"
     ]
    }
   ],
   "source": [
    "class TemperaturFehler(Exception):\n",
    "    \"\"\"Eigene Exception für ungültige Temperaturwerte.\"\"\"\n",
    "\n",
    "    def __init__(self, temperatur, min_wert, max_wert):\n",
    "        \n",
    "\n",
    "\n",
    "\n",
    "\n",
    "\n",
    "def verarbeite_temperatur(temp):\n",
    "    \n"
   ]
  },
  {
   "cell_type": "markdown",
   "id": "4ee99c40",
   "metadata": {},
   "source": [
    "**Konstruktor Überschreiben Vol. 2**\n",
    "\n",
    "Ein Geschäft hat eine Rabattaktion\n",
    "\n",
    "- Berechnen Sie den Rabattpreis eines Produkts mit der Funktion \"berechnet_rabattpreis(preis,rabatt_prozent)\", die den neuen Preis nach Abzug des Rabatts zurückgibt\n",
    "- aber der Rabattsatz, sprich die Prozente, müssen sinnvoll (0–100 %) sein.\n",
    "- Falls der Rabattsatz ungültig ist, soll eine eigene Exception \"UngueltigerRabattFehler\" geworfen werden."
   ]
  },
  {
   "cell_type": "code",
   "execution_count": null,
   "id": "1c4e6235",
   "metadata": {},
   "outputs": [
    {
     "name": "stdout",
     "output_type": "stream",
     "text": [
      "Originalpreis: 100 Euro. Rabattpreis: 90.00 Euro bei 10% Rabatt\n",
      "Rabattfehler: Ungültiger Rabattsatz: -5%\n",
      "Rabattfehler: Ungültiger Rabattsatz: 150%\n"
     ]
    }
   ],
   "source": [
    "\n",
    "class UngueltigerRabattFehler(Exception):\n",
    "    \"\"\"Wird geworfen, wenn der Rabattsatz außerhalb 0-100 % liegt.\"\"\"\n",
    "    def __init__(self, rabatt):\n",
    "        \n",
    "\n",
    "\n",
    "\n",
    "def berechne_rabattpreis(preis, rabatt_prozent):\n",
    "    \n",
    "    \n",
    "\n",
    "# Testfälle\n",
    "preise = [100, 200, 300]\n",
    "rabatte = [10, -5, 150]\n",
    "\n",
    "for p, r in zip(preise, rabatte):\n",
    "    try:\n",
    "        neuer_preis = berechne_rabattpreis(p, r)\n",
    "        print(f\"Originalpreis: {p} Euro. Rabattpreis: {neuer_preis:.2f} Euroni bei {r}% Rabatt\")\n",
    "    except UngueltigerRabattFehler as e:\n",
    "        print(\"Rabattfehler:\", e)\n"
   ]
  },
  {
   "cell_type": "markdown",
   "id": "a3b4f922",
   "metadata": {},
   "source": [
    "**Back to Basics, back to micropython**\n",
    "\n",
    "- Erstellen Sie eine Funktion \"mittelwert(liste)\", die die temperaturwerte aus der bzw. einer Liste nimmt und daraus den Mittelwert berechnet \n",
    "- rufen Sie die Funktion auf und printen Sie den Wert\n"
   ]
  },
  {
   "cell_type": "code",
   "execution_count": null,
   "id": "723fa3df",
   "metadata": {},
   "outputs": [],
   "source": [
    "temperaturen = [23.1, 22.9, 23.5, 23.0, 22.7, 23.2, 22.8, 23.3, 23.1, 23.0, 27.7, 27.9, 29.0, 25.3, 24.0, 19.0, 8.9, 11.9, 14.7,20.0]"
   ]
  },
  {
   "cell_type": "code",
   "execution_count": null,
   "id": "2de4ea7c",
   "metadata": {},
   "outputs": [
    {
     "name": "stdout",
     "output_type": "stream",
     "text": [
      "Mittelwert: 23.06\n"
     ]
    }
   ],
   "source": [
    "def mittelwert(werte):\n",
    "\n"
   ]
  },
  {
   "cell_type": "markdown",
   "id": "04af2ce7",
   "metadata": {},
   "source": [
    "**min/max**\n",
    "- erstellen Sie eine Funktion \"extremwerte(liste)\", die das Minimum und das Maximum aus der Liste temperaturen bestimmt\n",
    "- rufen Sie die FUnktion auf und lassen Sie sich die Werte min/max zurückgeben"
   ]
  },
  {
   "cell_type": "code",
   "execution_count": null,
   "id": "3df2df45",
   "metadata": {},
   "outputs": [],
   "source": [
    "def extremwerte(liste):\n"
   ]
  },
  {
   "cell_type": "markdown",
   "id": "81a5676e",
   "metadata": {},
   "source": [
    "**gleitender Mittelwert**\n",
    "Der gleitende Mittelwert (engl. moving average) ist eine einfache Methode zur Glättung von Daten, z. B. bei Messreihen oder Zeitreihen. Dabei wird nicht ein einzelner Durchschnitt, sondern eine Reihe von Durchschnitten berechnet – jeweils über einen „gleitenden“ Ausschnitt der Daten.\n",
    "\n",
    "- Berechnen Sie in der FUnktion \"gleitender_mittelwert(werte,fenster)\" den - logisch - gleitenden Mittelwert der Temperaturliste über ein konfigurierbares Datenfenster \n",
    "- Beispiel: Datenfenster 5 bedeutet, um den gleitenden Mittelwert des 10ten Wertes zu berechnen, berechnen Sie den Mittelwert des 8., 9., 10., 11. und 12. Wertes\n",
    "- rufen Sie die Funktion auf und printen Sie die zeitreihe\n",
    "- Tipp: mit meineListe.append(a) wird ein Wert a an die Liste meineListe angehängt\n"
   ]
  },
  {
   "cell_type": "code",
   "execution_count": null,
   "id": "e2337567",
   "metadata": {},
   "outputs": [],
   "source": [
    "def gleitender_mittelwert(werte, fenster=3):\n"
   ]
  },
  {
   "cell_type": "markdown",
   "id": "a2b40899",
   "metadata": {},
   "source": [
    "**Ausreißer filtern**\n",
    "\n",
    "- z.B. bei verrauschten Sensoren kann es hilfreich sein, Extremwerte zu ignorieren\n",
    "- Erstellen Sie daher eine Funktion \"entferne_ausreisser(liste,schwelle), die zunächst den mittelwert aller Messwerte berechnet (auf Basis der Liste temperaturen) und dann berechnet, wie stark die Abweichung jedes Wertes vom Durchschnitt ist. \n",
    "- ist die Abweichung größer als die Schwelle, findet sich dieser Extremwert nicht mehr in der neuen Liste wieder\n",
    "- geben Sie die neue Liste über den Funktionsaufruf aus\n",
    "- testen Sie die Funktion mit dem Schwellwert 1.5°C"
   ]
  },
  {
   "cell_type": "code",
   "execution_count": null,
   "id": "ab70d960",
   "metadata": {},
   "outputs": [
    {
     "name": "stdout",
     "output_type": "stream",
     "text": [
      "Ohne Ausreißer: [23.1, 22.9, 23.5, 23.0, 22.7, 23.2, 22.8, 23.3, 23.1, 23.0]\n"
     ]
    }
   ],
   "source": [
    "def entferne_ausreisser(liste, schwelle=1.5):\n"
   ]
  },
  {
   "cell_type": "markdown",
   "id": "e86c259f",
   "metadata": {},
   "source": [
    "**Standardabweichung**\n",
    "$$\\sigma = \\sqrt{\\frac{1}{n} \\sum_{i=1}^{n} (x_i - \\mu)^2}$$\n",
    "\n",
    "- die Standardabweichung drückt aus, wie groß die Streuung einer Zeitreihe um den Mittelwert ist. \n",
    "- Sie ist die Wurzel der Varianz und eignet sich als Indikator dafür, wie gedrängt und homogen die ermittelten WErte sind\n",
    "- Berechnen Sie in einer Funktion \"standardabweichung(liste)\" die Standardabweichung der temperaturwerte aus der Liste temperaturen\n",
    "- nutzen Sie daher die oben angegebene Formel\n",
    "- $\\mu$ ist der Mittelwert\n",
    "- $n$ ist die Anzahl der Messwerte in der Zeitreihe"
   ]
  },
  {
   "cell_type": "code",
   "execution_count": null,
   "id": "7c640584",
   "metadata": {},
   "outputs": [],
   "source": [
    "def standardabweichung(liste):\n"
   ]
  }
 ],
 "metadata": {
  "kernelspec": {
   "display_name": "prog2",
   "language": "python",
   "name": "python3"
  },
  "language_info": {
   "codemirror_mode": {
    "name": "ipython",
    "version": 3
   },
   "file_extension": ".py",
   "mimetype": "text/x-python",
   "name": "python",
   "nbconvert_exporter": "python",
   "pygments_lexer": "ipython3",
   "version": "3.12.9"
  }
 },
 "nbformat": 4,
 "nbformat_minor": 5
}
