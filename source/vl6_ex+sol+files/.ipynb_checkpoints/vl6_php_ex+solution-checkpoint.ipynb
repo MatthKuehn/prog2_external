{
 "cells": [
  {
   "cell_type": "markdown",
   "id": "4ceede8c-513f-4b57-999c-cf24685e5a70",
   "metadata": {},
   "source": [
    "# Vorlesung 6 - PHP\n",
    "\n",
    "Info: Da die meisten Lösungen der Übung 6 in Form von PHP-Dateien gegeben sind, gibt es nur eine Datei inkl. Lösung"
   ]
  },
  {
   "cell_type": "markdown",
   "id": "856d8b04-7ae8-43a6-80be-1cc4a6abd036",
   "metadata": {},
   "source": [
    "**Auswahl PHP-Befehle**\n",
    "\n",
    "| **Command**              | **Explanation**                          |\n",
    "|--------------------------|------------------------------------------|\n",
    "| `echo` or `print`        | Outputs text to the browser              |\n",
    "| `<?php ... ?>`           | PHP tags to start and end PHP code       |\n",
    "| `$variable = value;`     | Declares a variable                      |\n",
    "| `if (...) { ... }`       | Conditional logic                        |\n",
    "| `for`, `while`, `foreach`| Loops                                    |\n",
    "| `include`, `require`     | Insert another PHP file                  |\n",
    "| `$_GET`, `$_POST`        | Access form inputs (GET/POST)            |\n",
    "| `$_SESSION`, `$_COOKIE`  | Store data across pages                  |\n",
    "| `mysqli_connect(...)`    | Connect to MySQL database                |\n",
    "| `$conn->query(...)`      | Run an SQL query                         |\n",
    "| `fetch_assoc()`          | Get one row as an associative array      |\n",
    "\n",
    "\n",
    "Kommentieren in PHP:"
   ]
  },
  {
   "cell_type": "code",
   "execution_count": null,
   "id": "0b71766b-15bc-415f-bfa1-175fd7f471dc",
   "metadata": {},
   "outputs": [],
   "source": [
    "// 1-line comment\n",
    "# auch ein 1-line comment\n",
    "/* \n",
    "multi-line comment\n",
    "*/"
   ]
  },
  {
   "attachments": {},
   "cell_type": "markdown",
   "id": "1c9d9d76-f41e-40d5-a527-781d35360ac4",
   "metadata": {},
   "source": [
    "*Bereiten Sie Ihren PC zur Nutzung von PHP vor*\n",
    "\n",
    "- php installieren:\n",
    "    - https://www.geeksforgeeks.org/how-to-install-php-in-windows-10/\n",
    "    - php.exe als Systemvariable setzen\n",
    "- Web-Server aufsetzen (z.B. mit XAMPP --> https://www.apachefriends.org/) -> Apache -> Start in xampp control panel (server, der php ablaufen lässt)\n",
    "-  Im Server können jetzt Websites (oder Unterordner) erstellt werden --> Ordner xampp/htdocs\n",
    "- sprich: in htdocs liegen alle Websites\n",
    " "
   ]
  },
  {
   "cell_type": "markdown",
   "id": "3a0ae539-c8a6-4a39-bf08-a02702327950",
   "metadata": {},
   "source": [
    "*erstellen erster PHP Programme*\n",
    "- printen Sie etwas (Hello World etc.)\n",
    "- deklarieren Sie eine Variable und printen Sie diese, verketten Sie innerhalb der Ausgabe Variablen und Strings\n",
    "- erstellen Sie ein Array\n",
    "- erstellen Sie eine if-Bedingung unter Nutzung des Arrays\n",
    "\n",
    "rufen Sie all das auf dem Server auf\n",
    "\n",
    "--> fundamentals.php"
   ]
  },
  {
   "cell_type": "markdown",
   "id": "08fb5307-27a2-4771-ab5c-fc934e8a9fc8",
   "metadata": {},
   "source": [
    "*Kombinieren Sie html und php in einer Datei*\n",
    "\n",
    "bspw. durch Ausgeben einer Variablen\n",
    "Nutzen Sie das folgende html-Gerüst und bauen Sie dieses beliebig weiter aus, z.B. andere Schrift, Hintergrund...\n",
    "\n",
    "php wird folgendermaßen eingefügt (1. Zeile):  "
   ]
  },
  {
   "cell_type": "code",
   "execution_count": null,
   "id": "ee053551-c284-4d36-90e5-1abc4c838220",
   "metadata": {},
   "outputs": [],
   "source": [
    "<?php echo \"hello world\"; ?>\n",
    "\n",
    "\n",
    "<!DOCTYPE html>\n",
    "<html>\n",
    "<meta charset=\"UTF-8\">\n",
    "<head>\n",
    "    <link href=\"https://cdnjs.cloudflare.com/ajax/libs/font-awesome/5.15.4/css/all.min.css\" rel=\"stylesheet\">\n",
    "  <style>\n",
    "    h1 {\n",
    "      font-family: \"Comic Sans MS\", sans-serif;\n",
    "      margin: 40px;\n",
    "      background-color:rgb(157, 180, 38);\n",
    "      text-shadow: 6px 11px 2px #1C6EA4;\n",
    "    }\n",
    "    body {\n",
    "      font-family: \"Impact\", sans-serif;\n",
    "      margin: 40px;\n",
    "      background-color:rgb(175, 24, 216);\n",
    "    }\n",
    "  </style>\n",
    "</head>\n",
    "<body>\n",
    "  <h1>Mein Miniprojekt</h1>\n",
    "  <h2>Hier könnte Ihre Werbung oder ihr PHP-Text stehen</h2>\n",
    "  <p>Lorem ipsum dolor sit amet, consetetur sadipscing elitr, sed diam nonumy eirmod tempor invidunt ut labore.</p>\n",
    "  <i class=\"fas fa-church\" style=\"font-size: 50px; color: #6a4e1f;\"></i>\n",
    "  <p> habemus papam </p>\n",
    "  <p> ¯\\_(ツ)_/¯ </p>\n",
    "</body>\n",
    "</html>"
   ]
  },
  {
   "cell_type": "markdown",
   "id": "736288de-2f1c-4af6-9bf8-b50e716a8cc0",
   "metadata": {},
   "source": [
    "--> siehe html_test.php"
   ]
  },
  {
   "cell_type": "code",
   "execution_count": null,
   "id": "5ad135f7-a1b3-49b3-8bed-952f39e97ac6",
   "metadata": {},
   "outputs": [],
   "source": []
  },
  {
   "cell_type": "markdown",
   "id": "87dae746-f3db-4aa2-a898-c4bf7335879a",
   "metadata": {},
   "source": [
    "**php & mysql**\n",
    "\n",
    "MySQL-Server starten (z.B. aus den vorherigen Übungen) -> Access zur Datenbank\n",
    "  - Achtung: kann mit XAMPP oder SQL-Workbench (o.Ä.) gemacht werden.\n",
    "  - MySQL-Workbench besetzt u.U. den default-port von XAMPP\n",
    "\n",
    "*Testen Sie den Zugriff auf mysql über den Serverdienst*\n",
    "- geben Sie im Browser das folgende ein: localhost/phpmyadmin\n",
    "- jetzt sollten Ihre Datenbanken \n",
    "- Wenn nicht, müssten Sie in der config.inc.php im Folder xampp/phpmyadmin etwas anpassen"
   ]
  },
  {
   "cell_type": "code",
   "execution_count": null,
   "id": "b5ea07fb-5c4d-4590-8c82-aab60f27b14c",
   "metadata": {},
   "outputs": [],
   "source": [
    "$cfg['Servers'][$i]['auth_type'] = 'config';\n",
    "$cfg['Servers'][$i]['user'] = 'root';\n",
    "$cfg['Servers'][$i]['password'] = 'IHR MYSQL-PASSWORT';\n",
    "/* Bind to the localhost ipv4 address and tcp */\n",
    "$cfg['Servers'][$i]['host'] = '127.0.0.1';\n",
    "    "
   ]
  },
  {
   "cell_type": "markdown",
   "id": "9a802f93-2a08-43f8-923b-f6c37d344189",
   "metadata": {},
   "source": [
    "*Erstellen Sie ein php File, das auf eine mysql-Datenbank zugreift*\n",
    "\n",
    "- Falls Sie die Übung 3 zu SQL noch nicht gemacht haben, holen Sie dies nach, damit Sie eine funktionierende Datenbank inkl. Inhalt haben, die Sie für die folgenden Übungen nutzen können\n",
    "- Infos zu user, passwort... siehe Vorlesungsfolien\n",
    "- Schreiben Sie eine sql-Query innerhalb von php, die Daten aus einem Table Ihrer Wahl ausliest\n",
    "- Fügen Sie Daten in einen Table ein"
   ]
  },
  {
   "cell_type": "code",
   "execution_count": null,
   "id": "e112b68a-36ea-48f2-af9a-294e0632aaef",
   "metadata": {},
   "outputs": [],
   "source": [
    "<?php\n",
    "// parameter für den Aufbau der Verbindung zu mysql --> host ist standard, port ist standard\n",
    "// passwort kommt aus mysqlworkbench, sofern gesetzt\n",
    "// database: name der Datenbank, nicht des schemes\n",
    "$host = \"127.0.0.1\";  // or localhost\n",
    "$port = 3306;         // or whatever port mysql Workbench uses, if you use it. 3306 = default\n",
    "$user = \"root\";\n",
    "$password = \"HIER MUSS IHR PASSWORT STEHEN\";       //  actual MySQL password from workbench\n",
    "$database = \"prog2\";\n",
    "\n",
    "// aufbau der Verbindung\n",
    "$conn = new mysqli($host, $user, $password, $database, $port);\n",
    "if ($conn->connect_error) die(\"Connection failed\");\n",
    "\n",
    "echo \"Connected successfully - juhu!\";\n",
    "\n",
    "// Auslesen von Werten aus Table\n",
    "\n",
    "$ergebnis = $conn->query(\"SELECT * FROM mitglieder\");\n",
    "\n",
    "while ($row = $ergebnis->fetch_assoc()) {\n",
    "  echo \"<br>User: \" . $row[\"nachname\"] . \" (\" . $row[\"vorname\"] . \")\";\n",
    "}\n",
    "\n",
    "// Einfügen von Werten in Table\n",
    "$ergebnis=$conn->query(\"INSERT INTO mitglieder_neu (name, alter) VALUES ('ronalda', 37)\");\n",
    "if (!$ergebnis) {\n",
    "    echo \"<br>Query error: \" . $conn->error;\n",
    "}\n",
    "echo \"User inserted!\";\n",
    "\n",
    "$conn->close();\n",
    "?>"
   ]
  },
  {
   "cell_type": "markdown",
   "id": "6766cd00-6094-4fed-bd5b-0f71c056b13d",
   "metadata": {},
   "source": [
    "**mysql -> php -> html-Website**\n",
    "\n",
    "- Kombinieren Sie die erlernten Kenntnisse und visualisieren Sie Werte aus Ihrer Datenbank auf einer Website\n",
    "- Schreiben Sie dazu eine Datei 1, die Daten aus der Datenbank holt und eine Datei 2, die die php ausführt und in eine Website einbettet\n",
    "\n",
    "1. getTempDataFromDB.php or getTempDataFromB.php (reflect on the difference!)\n",
    "2. temp_data_website.php"
   ]
  },
  {
   "cell_type": "markdown",
   "id": "4dd94ee9-8861-40b1-9b15-02149fc8b574",
   "metadata": {},
   "source": [
    "**ESP8266 -> MQTT -> Datenbank --> mysql --> php -> live-Website**\n",
    "\n",
    "Machen Sie den vollen Durchlauf des bislang erlernten :-)\n",
    "\n",
    "- im letzten Teil der Exercise 5 sollten Sie Daten (z.B. Temperatur) eines Sensors über MQTT veröffentlichen und an Ihrem PC als JSON empfangen. Erweitern Sie diese Übung, indem Sie die Daten nach jedem Empfang in eine Datenbank schreiben (in Python) --> siehe mqtt_subscriber_json_on_laptop.py\n",
    "- Anschließend bzw. parallel rufen Sie die Daten aus der mysql-Datenbank über php ab und schicken dies auf eine Website\n",
    "- Sie brauchen hierzu auch etwas Javascript, da es nicht/schlecht möglich ist, eine Endlosschleife in php zu lösen\n",
    "- übergeben Sie die Daten aus der mysql-DB als JSON, um Probleme zu vermeiden\n"
   ]
  },
  {
   "cell_type": "code",
   "execution_count": null,
   "id": "ed6efc4e-255b-4b50-a024-7d447ef21991",
   "metadata": {},
   "outputs": [],
   "source": [
    "<!DOCTYPE html>\n",
    "<html lang=\"de\">\n",
    "<head>\n",
    "  <meta charset=\"UTF-8\">\n",
    "  <title>Temperatur der letzten Tage</title>\n",
    "  <style>\n",
    "    h1 {\n",
    "      font-family: \"Comic Sans MS\", sans-serif;\n",
    "      margin: 40px;\n",
    "      background-color:rgb(255, 0, 102);\n",
    "      text-shadow: 6px 11px 2px #1C6EA4;\n",
    "    }\n",
    "    body {\n",
    "      font-family: \"Impact\", sans-serif;\n",
    "      margin: 40px;\n",
    "      background-color:rgb(45, 245, 0);\n",
    "    }\n",
    "    table {\n",
    "      width: 100%;\n",
    "      max-width: 600px;\n",
    "      border-collapse: collapse;\n",
    "      margin-top: 20px;\n",
    "      background: #fff;\n",
    "    }\n",
    "    th, td {\n",
    "      padding: 12px 15px;\n",
    "      border: 1px solid #ccc;\n",
    "      text-align: center;\n",
    "    }\n",
    "    th {\n",
    "      background:rgb(185, 110, 110);\n",
    "    }\n",
    "    tr:nth-child(even) {\n",
    "      background:rgb(11, 230, 189);\n",
    "    }\n",
    "  </style>\n",
    "</head>\n",
    "<body>\n",
    "\n",
    "  <h1>Temperaturen der letzten Tage</h1>\n",
    "  <table>\n",
    "    <thead>\n",
    "      <tr>\n",
    "        <th>Datum</th>\n",
    "        <th>Temperatur (°C)</th>\n",
    "      </tr>\n",
    "    </thead>\n",
    "    <tbody>\n",
    "      <tr><td>x</td><td>18.5</td></tr>\n",
    "      <tr><td>x</td><td>19.2</td></tr>\n",
    "      <tr><td>x</td><td>20.1</td></tr>\n",
    "      <tr><td>x</td><td>21.4</td></tr>\n",
    "      \n",
    "    </tbody>\n",
    "  </table>\n",
    "\n",
    "</body>\n",
    "</html>"
   ]
  },
  {
   "cell_type": "markdown",
   "id": "b8443511-4d81-4b55-82d9-b43b44a8d0aa",
   "metadata": {},
   "source": [
    "1. getTempDAtaFromDBasJSON.php\n",
    "2. temp-data_website_live.php"
   ]
  },
  {
   "cell_type": "markdown",
   "id": "3d14e61e-aff3-42ed-b275-dffe66b84795",
   "metadata": {},
   "source": [
    "*Rufen Sie Ihre Website über Ihr Smartphone auf!!*\n",
    "\n",
    "--> Ende!"
   ]
  }
 ],
 "metadata": {
  "kernelspec": {
   "display_name": "Python [conda env:prog2]",
   "language": "python",
   "name": "conda-env-prog2-py"
  },
  "language_info": {
   "codemirror_mode": {
    "name": "ipython",
    "version": 3
   },
   "file_extension": ".py",
   "mimetype": "text/x-python",
   "name": "python",
   "nbconvert_exporter": "python",
   "pygments_lexer": "ipython3",
   "version": "3.12.9"
  }
 },
 "nbformat": 4,
 "nbformat_minor": 5
}
