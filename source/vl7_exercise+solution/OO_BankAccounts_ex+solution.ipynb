{
 "cells": [
  {
   "cell_type": "markdown",
   "id": "3ac0256a-1038-4481-909f-2382ef9e71e5",
   "metadata": {},
   "source": [
    "### Funktionalität und Daten\n",
    "\n",
    "**Vorbereitung**\n",
    "\n",
    "Sie sollen ein Kontensystem entwicklen\n",
    "- Ein Konto mit Besitzername, Kto-Nummer, Kto-Stand, maximale Abhebemenge, heute schon abgehobenem Betrag\n",
    "- Erstellen Sie eine Funktion create_account, die dieses Konto erstellt (mit den Eigenschaften des Kontos als Übergabewerten) und das Kto als dict zurückgibt\n",
    "- Testen Sie die Funktion, indem Sie ein weiteres Konto erstellen\n",
    "- ERstellen Sie eine Funktion show_account, die die Eigenschaften des Kontos printet. Machen Sie dabei folgende Angaben: Wem das Konto gehört, wie die Kto-Nummer ist, den Kontostand und wieviel bereits abgehoben wurde\n",
    "- ERstellen Sie eine Funktion deposit, mit der ein bestimmter Betrag auf ein Konto eingezahlt wird und dieser Betrag dem bereits vorhanden Kontostand gutgeschrieben wird\n",
    "- führen Sie idese Funktion mit einem Betrag Ihrer Wahl aus\n",
    "- Erstellen Sie eine Funktion withdraw, mit der von einem Kto mit einer bestimmten Nummer ein bestimmter Betrag abgehoben wird und dabei beim Kontostand der abgehobene Betrag abgezogen wird. Es muss über eine if-Schleife sichergestellt sein, dass dabei das Konto nicht ins Minus geht und dass die abgehobene Geldmenge + die an diesem Tag bereits abgehobene Geldmenge nicht über dem maximalen Auszahlungsbetrag liegt\n",
    "- führen Sie die Funktion mit einem Betrag Ihrer Wahl aus\n",
    "- erstellen Sie eine Funktion credit_transfer(sender, receiver, amount), die Geldbeträge an einen Empfänger schickt. \n",
    "\t- Stellen Sie dabei sicher, dass die Geld schickende Person dabei nicht ihr Tageslimit überschreitet\n",
    "\t- Korrigieren Sie den Kto-Stand der schickenden Person und des Empfängers/der Empfängerin\n",
    "- Erstellen Sie zwei weitere Accounts mit denen Sie die Funktion credit_transfer ausführen und testen Sie die Ausgabe\n",
    "\n",
    "Anschließend (Beschreibung weiter unten) wird das Kontensystem objektorientiert aufgesetzt\n",
    " \n",
    "\n"
   ]
  },
  {
   "cell_type": "code",
   "execution_count": 1,
   "id": "80ca989b-0b02-4929-9ec6-b41edc26dbed",
   "metadata": {},
   "outputs": [],
   "source": [
    "account = {'owner': 'Leonardo',\n",
    "           'number': 123,\n",
    "           'balance': 2000,\n",
    "           'turnover_max': 1500,\n",
    "           'turnover_today': 0}"
   ]
  },
  {
   "cell_type": "code",
   "execution_count": 2,
   "id": "2936e3d6-42c3-481c-b3e5-ba23bc2c65a3",
   "metadata": {},
   "outputs": [
    {
     "data": {
      "text/plain": [
       "2000"
      ]
     },
     "execution_count": 2,
     "metadata": {},
     "output_type": "execute_result"
    }
   ],
   "source": [
    "account['balance']"
   ]
  },
  {
   "cell_type": "code",
   "execution_count": 3,
   "id": "f15dd0af-1e00-4477-be72-952e6e1ab651",
   "metadata": {},
   "outputs": [],
   "source": [
    "def create_account(owner, number, balance, turnover_max):\n",
    "    return {'owner': owner,\n",
    "           'number': number,\n",
    "           'balance': balance,\n",
    "           'turnover_max': turnover_max,\n",
    "           'turnover_today': 0}"
   ]
  },
  {
   "cell_type": "code",
   "execution_count": 4,
   "id": "8d83aa5a-73ae-461b-85c5-8db5eecc4728",
   "metadata": {},
   "outputs": [
    {
     "data": {
      "text/plain": [
       "'Berta'"
      ]
     },
     "execution_count": 4,
     "metadata": {},
     "output_type": "execute_result"
    }
   ],
   "source": [
    "acc = create_account('Berta', 234, 3000, 1500)\n",
    "acc['owner']"
   ]
  },
  {
   "cell_type": "code",
   "execution_count": 5,
   "id": "403ee67f-5108-45b9-b918-da7ce42a4cab",
   "metadata": {},
   "outputs": [],
   "source": [
    "def show_account(account):\n",
    "    print('Konto von ' + account['owner'])\n",
    "    print('Kontonummer: ' + str(account['number']))\n",
    "    print('Kontostand:  ' + str(account['balance']) + ' Euro')\n",
    "    print('Heute bereits ' + str(account['turnover_today']) + ' Euro bewegt.')"
   ]
  },
  {
   "cell_type": "code",
   "execution_count": 6,
   "id": "9c5b1933-cad2-4061-85be-eea13091b547",
   "metadata": {},
   "outputs": [
    {
     "name": "stdout",
     "output_type": "stream",
     "text": [
      "Konto von Berta\n",
      "Kontonummer: 234\n",
      "Kontostand:  3000 Euro\n",
      "Heute bereits 0 Euro bewegt.\n"
     ]
    }
   ],
   "source": [
    "show_account(acc)"
   ]
  },
  {
   "cell_type": "code",
   "execution_count": 7,
   "id": "214ff8ee-b9c3-4579-94c5-70c75a874d65",
   "metadata": {},
   "outputs": [],
   "source": [
    "def deposit(account, amount):\n",
    "    account['balance'] += amount\n",
    "    return True"
   ]
  },
  {
   "cell_type": "code",
   "execution_count": 8,
   "id": "aa09e1ef-2ee2-4d0d-bafd-bb1015f2fae8",
   "metadata": {},
   "outputs": [
    {
     "name": "stdout",
     "output_type": "stream",
     "text": [
      "Konto von Berta\n",
      "Kontonummer: 234\n",
      "Kontostand:  4000 Euro\n",
      "Heute bereits 0 Euro bewegt.\n"
     ]
    }
   ],
   "source": [
    "deposit(acc, 1000)\n",
    "show_account(acc)"
   ]
  },
  {
   "cell_type": "code",
   "execution_count": 9,
   "id": "ef27c854-2a61-45ed-a557-0e9e9101c90b",
   "metadata": {},
   "outputs": [],
   "source": [
    "def withdraw(account, amount):\n",
    "    if (account['balance'] > amount \n",
    "        and amount < account['turnover_max']\n",
    "        and account['turnover_today'] + amount < account['turnover_max']):\n",
    "        account['balance'] -= amount\n",
    "        account['turnover_today'] += amount\n",
    "        return True\n",
    "    else:\n",
    "        return False"
   ]
  },
  {
   "cell_type": "code",
   "execution_count": 10,
   "id": "066aed8e-23c9-440f-a868-f2880e8b4835",
   "metadata": {},
   "outputs": [
    {
     "name": "stdout",
     "output_type": "stream",
     "text": [
      "Konto von Berta\n",
      "Kontonummer: 234\n",
      "Kontostand:  3800 Euro\n",
      "Heute bereits 200 Euro bewegt.\n"
     ]
    }
   ],
   "source": [
    "withdraw(acc, 200)\n",
    "show_account(acc)"
   ]
  },
  {
   "cell_type": "code",
   "execution_count": 11,
   "id": "942b9fbc-bb60-4fed-8acf-7b0b4e3d4e65",
   "metadata": {},
   "outputs": [],
   "source": [
    "def credit_transfer(sender, receiver, amount):\n",
    "    if sender['turnover_today'] + amount < sender['turnover_max']:\n",
    "        sender['balance'] -= amount\n",
    "        sender['turnover_today'] += amount\n",
    "        receiver['balance'] += amount\n",
    "        return True\n",
    "    else:\n",
    "        return False"
   ]
  },
  {
   "cell_type": "code",
   "execution_count": 12,
   "id": "47189d90-7157-44ed-908f-17911fc77144",
   "metadata": {},
   "outputs": [
    {
     "name": "stdout",
     "output_type": "stream",
     "text": [
      "Konto von Berta\n",
      "Kontonummer: 234\n",
      "Kontostand:  3000 Euro\n",
      "Heute bereits 0 Euro bewegt.\n",
      "Konto von Christoph\n",
      "Kontonummer: 456\n",
      "Kontostand:  2000 Euro\n",
      "Heute bereits 0 Euro bewegt.\n"
     ]
    }
   ],
   "source": [
    "acc1 = create_account('Berta', 234, 3000, 1500)\n",
    "acc2 = create_account('Christoph', 456, 2000, 1500)\n",
    "show_account(acc1)\n",
    "show_account(acc2)"
   ]
  },
  {
   "cell_type": "code",
   "execution_count": 13,
   "id": "636ca150-a0f2-4583-9ec7-2bd565231f1f",
   "metadata": {},
   "outputs": [
    {
     "name": "stdout",
     "output_type": "stream",
     "text": [
      "Konto von Berta\n",
      "Kontonummer: 234\n",
      "Kontostand:  4000 Euro\n",
      "Heute bereits 0 Euro bewegt.\n",
      "Konto von Christoph\n",
      "Kontonummer: 456\n",
      "Kontostand:  1000 Euro\n",
      "Heute bereits 1000 Euro bewegt.\n"
     ]
    }
   ],
   "source": [
    "credit_transfer(acc2, acc1, 1000)\n",
    "show_account(acc1)\n",
    "show_account(acc2)"
   ]
  },
  {
   "cell_type": "markdown",
   "id": "14cb0bc8-3716-4729-a3eb-1365528457d6",
   "metadata": {},
   "source": [
    "### Objektorientierung\n",
    "\n",
    "**Class Customer**\n",
    "\n",
    "- Erstellen Sie eine Klasse Customer mit einem Konstruktor mit namen, Kunden-Nr, Addresse und einer Liste mit Konten ('self.accounts=[]' -> am Anfang leer)\n",
    "- Erstellen Sie in Customer eine Funktion create_account, die mit Kontonummer, Kto-Stand und Limit daherkommt. In dieser Funktion soll ein Objekt der Klasse Account erstellt werden und dieses Objekt anschließend zur Liste der Konten des Customers hinzugefügt werden (self.accounts.append(account)\n",
    "- Erstellen Sie (immer noch in Customer) eine Funktion show, die den Namen des Kunden ausgibt und die Konten des Kundens durchgeht und dabei wiederum die Funktion show der Klasse account aufruft\n",
    "- die Kto-Nummer soll protected sein\n",
    "\n",
    "**Class Account**\n",
    "\n",
    "- Erstellen Sie eine Klasse Account mit den Variablen owner, Kto-Nummer, Kto-stand, Limit)\n",
    "- Property Funktion number soll die Kto-Nummer zurückgeben\n",
    "- Mit der number.setter Funktion soll die Kto-Nummer editieren können. Stellen Sie dabei sicher, dass nur Zahlen vom Typ int eingegeben werden können\n",
    "- Erstellen Sie die Account-Funktionen deposit, withdraw, credit_transfer und show "
   ]
  },
  {
   "cell_type": "code",
   "execution_count": 14,
   "id": "fea95b65-0b4b-4291-9a7e-9fa544ee70fc",
   "metadata": {},
   "outputs": [],
   "source": [
    "class Customer:\n",
    "    def __init__(self, name, number, address):\n",
    "        self.name = name\n",
    "        self.number = number\n",
    "        self.address = address\n",
    "        self.accounts = []\n",
    "\n",
    "    def create_account(self, number, balance, turnover_max):\n",
    "        account = Account(self, number, balance, turnover_max)\n",
    "        self.accounts.append(account)\n",
    "\n",
    "    def show(self):\n",
    "        print('Name: ' + self.name)\n",
    "        for acc in self.accounts:\n",
    "            acc.show()"
   ]
  },
  {
   "cell_type": "code",
   "execution_count": 38,
   "id": "5ac10cd4-c1bb-466d-a0fa-4547190c4c0b",
   "metadata": {},
   "outputs": [],
   "source": [
    "class Account:\n",
    "    def __init__(self, owner, number, balance, turnover_max):\n",
    "        self.owner = owner\n",
    "        self._number = number\n",
    "        self.balance = balance\n",
    "        self.turnover_max = turnover_max\n",
    "        self.turnover_today = 0\n",
    "\n",
    "    @property\n",
    "    def number(self):\n",
    "        return self._number\n",
    "\n",
    "    @number.setter\n",
    "    def number(self, value):\n",
    "        if type(value) is int:\n",
    "            self._number = value\n",
    "        else:\n",
    "            print('False')\n",
    "\n",
    "    def deposit(self, amount):\n",
    "        self.balance += amount\n",
    "        return True\n",
    "\n",
    "    def withdraw(self, amount):\n",
    "        if (self.balance > amount \n",
    "            and amount < self.turnover_max\n",
    "            and self.turnover_today + amount < self.turnover_max):\n",
    "            self.balance -= amount\n",
    "            self.turnover_today += amount\n",
    "            return True\n",
    "        else:\n",
    "            return False\n",
    "\n",
    "    def credit_transfer(self, receiver, amount):\n",
    "        if self.turnover_today + amount < self.turnover_max:\n",
    "            self.balance -= amount\n",
    "            self.turnover_today += amount\n",
    "            receiver.deposit(amount)\n",
    "            return True\n",
    "        else:\n",
    "            return False\n",
    "\n",
    "    def show(self):\n",
    "        print('Kontonummer: ' + str(self.number))\n",
    "        print('Kontostand:  ' + str(self.balance) + ' Euro')\n",
    "        print('Heute bereits ' + str(self.turnover_today) + ' Euro bewegt.')"
   ]
  },
  {
   "cell_type": "markdown",
   "id": "47d61b50",
   "metadata": {},
   "source": [
    "**Tochterklasse DepositAccount**\n",
    "\n",
    "- Erstellen Sie die Klasse DepositAccount, die von Account erbt\n",
    "- Erstellen Sie dazu einen Konstruktor, der auch den Konstruktor der Elternklasse enthält\n",
    "- ein depositaccount, d.h. ein Sparkonto, wird genutzt, um Zinsen zu bekommen. Entsprechend muss der Konstruktor der Klasse auch einen Parameter interest enthalten\n",
    "- erstellen Sie eine Funktion show, die die show-Funktion der Elternklasse ausführt und zusätzlich noch den Zins ausgibt"
   ]
  },
  {
   "cell_type": "code",
   "execution_count": 39,
   "id": "c2a86b61-9bb7-49d8-93fb-e364c56c8161",
   "metadata": {},
   "outputs": [],
   "source": [
    "class DepositAccount(Account):\n",
    "    def __init__(self, owner, number, balance, turnover_max, interess):\n",
    "        super().__init__(owner, number, balance, turnover_max)\n",
    "        self.interess = interess\n",
    "\n",
    "    def show(self):\n",
    "        super().show()\n",
    "        print('Zinssatz:    ' + str(self.interess) + ' Prozent')"
   ]
  },
  {
   "cell_type": "markdown",
   "id": "337ab440",
   "metadata": {},
   "source": [
    "**Instanziierung**\n",
    "\n",
    "an dieser Stelle sind die benötigten Klassen komplett\n",
    "- Erstellen Sie einen Kunden sowie ein normales und ein Sparkonto für den Kunden und lassen Sie mit show die Kontostände ausgeben"
   ]
  },
  {
   "cell_type": "code",
   "execution_count": null,
   "id": "7b1c4b0d-81cc-40a9-8160-887af92808df",
   "metadata": {},
   "outputs": [
    {
     "name": "stdout",
     "output_type": "stream",
     "text": [
      "Kontonummer: 778\n",
      "Kontostand:  2000 Euro\n",
      "Heute bereits 0 Euro bewegt.\n",
      "False\n",
      "778\n"
     ]
    }
   ],
   "source": [
    "antonio=Customer('Antonio Conte',1234,'Waltenhofen')\n",
    "account1 = Account(antonio, 778, 2000, 1500)\n",
    "account1.show()\n",
    "account1.number = 'stringmitnummer'\n",
    "account.show()\n",
    "print(account.number)\n",
    "\n",
    "depositAccount1=Account(antonio, 778, 29999, 1500,3)\n",
    "depositAccount1.show()\n",
    "print(account.number)"
   ]
  },
  {
   "cell_type": "markdown",
   "id": "c2dfcd67",
   "metadata": {},
   "source": [
    "- Erstellen Sie eine weitere Kundin und für diese einen Account\n",
    "- prüfen Sie hier ab, von welchem Typ die Kundin ist"
   ]
  },
  {
   "cell_type": "code",
   "execution_count": 32,
   "id": "87e2a28b-5ef1-4a9d-88b4-cc153e7879a0",
   "metadata": {},
   "outputs": [
    {
     "name": "stdout",
     "output_type": "stream",
     "text": [
      "Name: Berta\n"
     ]
    }
   ],
   "source": [
    "customer = Customer('Berta', 1, 'Kempten')\n",
    "customer.show()"
   ]
  },
  {
   "cell_type": "code",
   "execution_count": 33,
   "id": "a750ed32-536e-4285-8790-0a1c445fb15d",
   "metadata": {},
   "outputs": [
    {
     "name": "stdout",
     "output_type": "stream",
     "text": [
      "Name: Berta\n",
      "Kontonummer: 567\n",
      "Kontostand:  5000 Euro\n",
      "Heute bereits 0 Euro bewegt.\n"
     ]
    }
   ],
   "source": [
    "customer.create_account(567, 5000, 1500)\n",
    "customer.show()"
   ]
  },
  {
   "cell_type": "code",
   "execution_count": 87,
   "id": "35169e61-ab24-4759-8e95-5a3b66d64ea7",
   "metadata": {},
   "outputs": [
    {
     "data": {
      "text/plain": [
       "__main__.Customer"
      ]
     },
     "execution_count": 87,
     "metadata": {},
     "output_type": "execute_result"
    }
   ],
   "source": [
    "type(customer.accounts[0].owner)"
   ]
  },
  {
   "cell_type": "markdown",
   "id": "eced8599",
   "metadata": {},
   "source": [
    "- Erstllen Sie 2 Accounts\n",
    "- Heben Sie von einem der Konten Geld ab\n",
    "- Zahlen Sie auf das andere Konto Geld ein\n",
    "- transferieren Sie Geld von einem Account zum anderen"
   ]
  },
  {
   "cell_type": "code",
   "execution_count": 41,
   "id": "e5e66e2c-1ce8-45af-ad11-3b0046505647",
   "metadata": {},
   "outputs": [
    {
     "name": "stdout",
     "output_type": "stream",
     "text": [
      "Kontonummer: 234\n",
      "Kontostand:  3000 Euro\n",
      "Heute bereits 0 Euro bewegt.\n",
      "Kontonummer: 567\n",
      "Kontostand:  2000 Euro\n",
      "Heute bereits 0 Euro bewegt.\n"
     ]
    }
   ],
   "source": [
    "acc1 = Account('Berta', 234, 3000, 1500)\n",
    "acc1.show()\n",
    "acc2 = Account('Christoph', 567, 2000, 1500)\n",
    "acc2.show()"
   ]
  },
  {
   "cell_type": "code",
   "execution_count": 42,
   "id": "b3433363-70e5-4b6b-9748-37fd701d5ef1",
   "metadata": {},
   "outputs": [
    {
     "name": "stdout",
     "output_type": "stream",
     "text": [
      "Kontonummer: 234\n",
      "Kontostand:  4000 Euro\n",
      "Heute bereits 0 Euro bewegt.\n",
      "Kontonummer: 567\n",
      "Kontostand:  1000 Euro\n",
      "Heute bereits 1000 Euro bewegt.\n"
     ]
    }
   ],
   "source": [
    "acc2.credit_transfer(acc1, 1000)\n",
    "acc1.show()\n",
    "acc2.show()"
   ]
  },
  {
   "cell_type": "markdown",
   "id": "e322a65d-c63d-4648-a762-729fd7eeab8c",
   "metadata": {},
   "source": [
    "Ende :-)"
   ]
  }
 ],
 "metadata": {
  "kernelspec": {
   "display_name": "prog2",
   "language": "python",
   "name": "python3"
  },
  "language_info": {
   "codemirror_mode": {
    "name": "ipython",
    "version": 3
   },
   "file_extension": ".py",
   "mimetype": "text/x-python",
   "name": "python",
   "nbconvert_exporter": "python",
   "pygments_lexer": "ipython3",
   "version": "3.12.9"
  }
 },
 "nbformat": 4,
 "nbformat_minor": 5
}
