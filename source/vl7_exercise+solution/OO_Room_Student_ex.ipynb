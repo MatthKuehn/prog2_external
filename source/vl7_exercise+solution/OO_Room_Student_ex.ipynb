{
 "cells": [
  {
   "cell_type": "markdown",
   "id": "4d5a78b5",
   "metadata": {},
   "source": [
    "### Basics der objektorientierten Programmierung\n",
    "- Klassendeklaration\n",
    "- Konstruktor\n",
    "- Vererbung\n",
    "- Kapselung\n",
    "- Klassenvariablen und Klassenmethoden"
   ]
  },
  {
   "cell_type": "markdown",
   "id": "f9e485d6",
   "metadata": {},
   "source": [
    "**Declaration**\n",
    "\n",
    "- Erstellen Sie eine Klasse mit einem Konstruktor, der bei der Instanziierung etwas printet\n",
    "- Erstellen Sie eine zweite Klasse, der bei der Instanziierung auch ein Übergabewert mitgegeben werden soll\n",
    "- Instanziieren Sie beide Klassen\n",
    "- Lassen Sie sich den Typ der Objekte ausgeben\n",
    "- Greifen Sie auf den Parameter des zweiten Objekts zu"
   ]
  },
  {
   "cell_type": "code",
   "execution_count": null,
   "id": "a5d1167c",
   "metadata": {},
   "outputs": [],
   "source": []
  },
  {
   "cell_type": "code",
   "execution_count": null,
   "id": "01fd985c",
   "metadata": {},
   "outputs": [
    {
     "name": "stdout",
     "output_type": "stream",
     "text": [
      "KlasseEins-Objekt erstellen...\n",
      "KlasseZwei-Objekt erstellen...\n",
      "KlasseZwei-Objekt erstellen...\n"
     ]
    },
    {
     "data": {
      "text/plain": [
       "5"
      ]
     },
     "execution_count": 2,
     "metadata": {},
     "output_type": "execute_result"
    }
   ],
   "source": []
  },
  {
   "cell_type": "markdown",
   "id": "dd36357b",
   "metadata": {},
   "source": [
    "**Properties und Attributes**\n",
    "\n",
    "- Erstellen Sie eine Klasse Raum mit einem Parameter size und temperature\n",
    "- Generieren Sie ein Objekt\n",
    "- Geben Sie die Temperatur aus, greifen Sie anschließend auf die Temperatur zu und ändern diese, um sie anschließend erneut auszugeben\n"
   ]
  },
  {
   "cell_type": "code",
   "execution_count": null,
   "id": "ea0c3cfe",
   "metadata": {},
   "outputs": [],
   "source": []
  },
  {
   "cell_type": "code",
   "execution_count": null,
   "id": "7afe7a71",
   "metadata": {},
   "outputs": [
    {
     "name": "stdout",
     "output_type": "stream",
     "text": [
      "24\n"
     ]
    },
    {
     "data": {
      "text/plain": [
       "-3000"
      ]
     },
     "execution_count": 5,
     "metadata": {},
     "output_type": "execute_result"
    }
   ],
   "source": []
  },
  {
   "cell_type": "markdown",
   "id": "a2c3f1d5",
   "metadata": {},
   "source": [
    "**Kapselung**\n",
    "\n",
    "- Erstellen Sie dieselbe Klasse Room, aber mit geschützten Variablen temperature und size\n",
    "- Testen Sie ob der Zugriff möglich ist und testen Sie dies sowohl für private als auch für protected size/temperature"
   ]
  },
  {
   "cell_type": "code",
   "execution_count": null,
   "id": "e603f59f",
   "metadata": {},
   "outputs": [],
   "source": []
  },
  {
   "cell_type": "code",
   "execution_count": null,
   "id": "59011953",
   "metadata": {},
   "outputs": [
    {
     "data": {
      "text/plain": [
       "34"
      ]
     },
     "execution_count": 7,
     "metadata": {},
     "output_type": "execute_result"
    }
   ],
   "source": [
    "\n"
   ]
  },
  {
   "cell_type": "markdown",
   "id": "4a0a7e20",
   "metadata": {},
   "source": [
    "**@property / setter**\n",
    "\n",
    "- Erstellen Sie die Klasse Room erneut, diese Mal aber zusätzlich \n",
    "- für temperature und size jeweils eine @property-methode, mit der size und temperature abgerufen werden können\n",
    "- für temperature und size jeweils eine setter-Methode, mit der size und temperature festgelegt wreden können\n",
    "\n",
    "\n",
    "- Testen Sie die Klassen, indem Objekte erzeugt werden und auf die getter/setter-Methoden zugegriffen wird, um Werte auszugeben oder zu setzen "
   ]
  },
  {
   "cell_type": "code",
   "execution_count": null,
   "id": "1de38adb",
   "metadata": {},
   "outputs": [],
   "source": []
  },
  {
   "cell_type": "code",
   "execution_count": null,
   "id": "e58c1920",
   "metadata": {},
   "outputs": [
    {
     "data": {
      "text/plain": [
       "307"
      ]
     },
     "execution_count": 9,
     "metadata": {},
     "output_type": "execute_result"
    }
   ],
   "source": []
  },
  {
   "cell_type": "code",
   "execution_count": null,
   "id": "c023110d",
   "metadata": {},
   "outputs": [
    {
     "data": {
      "text/plain": [
       "-30"
      ]
     },
     "execution_count": 10,
     "metadata": {},
     "output_type": "execute_result"
    }
   ],
   "source": []
  },
  {
   "cell_type": "code",
   "execution_count": null,
   "id": "12007bb1",
   "metadata": {},
   "outputs": [
    {
     "data": {
      "text/plain": [
       "-30"
      ]
     },
     "execution_count": 11,
     "metadata": {},
     "output_type": "execute_result"
    }
   ],
   "source": []
  },
  {
   "cell_type": "markdown",
   "id": "8e4f234f",
   "metadata": {},
   "source": [
    "**Vererbung**\n",
    "- Erstellen Sie eine Klasse Person mit dem Attribut name\n",
    "- Erstellen Sie setter/getter-methode zur Abfrage/Eingabe des Namens\n",
    "- Erstellen Sie ein Objekt mit Namen und fragen Sie diesen ab"
   ]
  },
  {
   "cell_type": "code",
   "execution_count": null,
   "id": "fd93d53c",
   "metadata": {},
   "outputs": [],
   "source": []
  },
  {
   "cell_type": "code",
   "execution_count": null,
   "id": "ba934119",
   "metadata": {},
   "outputs": [
    {
     "data": {
      "text/plain": [
       "'Tim'"
      ]
     },
     "execution_count": 13,
     "metadata": {},
     "output_type": "execute_result"
    }
   ],
   "source": []
  },
  {
   "cell_type": "markdown",
   "id": "b1d1d955",
   "metadata": {},
   "source": [
    "- Erstllen Sie eine Klasse Student mit Attributen name und matriculation_nr\n",
    "- erstellen Sie setter/getter für beide Attribute\n",
    "- Erstellen Sie ein Studentenobjekt"
   ]
  },
  {
   "cell_type": "code",
   "execution_count": null,
   "id": "d8b9a522",
   "metadata": {},
   "outputs": [],
   "source": []
  },
  {
   "cell_type": "code",
   "execution_count": null,
   "id": "47a5a85e",
   "metadata": {},
   "outputs": [
    {
     "data": {
      "text/plain": [
       "1234"
      ]
     },
     "execution_count": 15,
     "metadata": {},
     "output_type": "execute_result"
    }
   ],
   "source": []
  },
  {
   "cell_type": "markdown",
   "id": "7bdc43e4",
   "metadata": {},
   "source": [
    "- Erstellen Sie jetzt eine Klasse Student, die von Person erbt und somit den Elternkonstruktor übernimmt und um die Matrikelnummer ergänzt\n",
    "- wie oben setter/getter + instanziieren"
   ]
  },
  {
   "cell_type": "code",
   "execution_count": null,
   "id": "34e73912",
   "metadata": {},
   "outputs": [],
   "source": []
  },
  {
   "cell_type": "code",
   "execution_count": null,
   "id": "49be185e",
   "metadata": {},
   "outputs": [
    {
     "ename": "NameError",
     "evalue": "name 'Student' is not defined",
     "output_type": "error",
     "traceback": [
      "\u001b[1;31m---------------------------------------------------------------------------\u001b[0m",
      "\u001b[1;31mNameError\u001b[0m                                 Traceback (most recent call last)",
      "Cell \u001b[1;32mIn[1], line 1\u001b[0m\n\u001b[1;32m----> 1\u001b[0m student \u001b[38;5;241m=\u001b[39m Student(\u001b[38;5;124m'\u001b[39m\u001b[38;5;124mDonald\u001b[39m\u001b[38;5;124m'\u001b[39m, \u001b[38;5;241m1234\u001b[39m)\n\u001b[0;32m      2\u001b[0m student\u001b[38;5;241m.\u001b[39mname\n",
      "\u001b[1;31mNameError\u001b[0m: name 'Student' is not defined"
     ]
    }
   ],
   "source": []
  },
  {
   "cell_type": "markdown",
   "id": "8bfaa70b",
   "metadata": {},
   "source": [
    "- Erstellen Sie eine Klasse Employee, die ebenfalls von Person erbt und zusätzlich eine Mitarbeitenden-Nr employee_nr besitzt und instanziieren Sie diese"
   ]
  },
  {
   "cell_type": "code",
   "execution_count": null,
   "id": "8385ddc9",
   "metadata": {},
   "outputs": [],
   "source": []
  },
  {
   "cell_type": "code",
   "execution_count": null,
   "id": "a6814f8d",
   "metadata": {},
   "outputs": [
    {
     "data": {
      "text/plain": [
       "1234"
      ]
     },
     "execution_count": 19,
     "metadata": {},
     "output_type": "execute_result"
    }
   ],
   "source": []
  },
  {
   "cell_type": "markdown",
   "id": "6f79a601",
   "metadata": {},
   "source": [
    "### Klassenvariablen\n",
    "\n",
    "Nutzen Sie die Basisklasse Person:"
   ]
  },
  {
   "cell_type": "code",
   "execution_count": null,
   "id": "7bfefc03",
   "metadata": {},
   "outputs": [],
   "source": []
  },
  {
   "cell_type": "markdown",
   "id": "78f60519",
   "metadata": {},
   "source": [
    "- Erstellen Sie eine Unterklasse Student, die zusätzlich ein Studienfach speichert.\n",
    "- Fügen Sie eine Klassenvariable anzahl_studenten hinzu, die mitzählt, wieviele Student-Objekte erzeugt wurden.\n",
    "- Implementieren Sie eine @classmethod, die die aktuelle Anzahl an Student*innen ausgibt.\n",
    "- Erzeugen Sie mehrere Student-Objekte und rufen Sie zeige_anzahl() auf. \n",
    "- Fügen Sie eine weitere Klassenvariable hinzu: studiengang_zaehler als Dictionary, das zählt, wie viele Studierende pro Fach eingeschrieben sind.\n",
    "- fügen Sie die Klassenmethode zeige_fachstatistik hinzu, die die Anzahl der eingeschriebenen STudierenden pro Fach ausgibt\n"
   ]
  },
  {
   "cell_type": "code",
   "execution_count": null,
   "id": "d5d2c592",
   "metadata": {},
   "outputs": [],
   "source": []
  },
  {
   "cell_type": "markdown",
   "id": "350bf66c",
   "metadata": {},
   "source": [
    "- Erstellen Sie zwei Studierende\n",
    "- geben Sie die Gesamtzahl der Studierenden aus\n",
    "- Erstellen Sie eine dritte Studentin, rufen Sie anschließend die Klassenvariable zeige_fachstatistik auf"
   ]
  },
  {
   "cell_type": "code",
   "execution_count": null,
   "id": "9e51b6a0",
   "metadata": {},
   "outputs": [
    {
     "name": "stdout",
     "output_type": "stream",
     "text": [
      "Aktuell 2 Studierende.\n"
     ]
    }
   ],
   "source": []
  },
  {
   "cell_type": "code",
   "execution_count": null,
   "id": "83c2bd3f",
   "metadata": {},
   "outputs": [
    {
     "name": "stdout",
     "output_type": "stream",
     "text": [
      "Studiengänge: {'Physik': 2, 'Informatik': 1}\n"
     ]
    }
   ],
   "source": []
  }
 ],
 "metadata": {
  "kernelspec": {
   "display_name": "prog2",
   "language": "python",
   "name": "python3"
  },
  "language_info": {
   "codemirror_mode": {
    "name": "ipython",
    "version": 3
   },
   "file_extension": ".py",
   "mimetype": "text/x-python",
   "name": "python",
   "nbconvert_exporter": "python",
   "pygments_lexer": "ipython3",
   "version": "3.12.9"
  }
 },
 "nbformat": 4,
 "nbformat_minor": 5
}
