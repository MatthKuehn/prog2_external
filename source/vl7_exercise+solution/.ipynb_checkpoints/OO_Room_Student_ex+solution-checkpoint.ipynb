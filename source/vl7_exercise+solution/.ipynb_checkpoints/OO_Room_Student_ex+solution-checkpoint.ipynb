{
 "cells": [
  {
   "cell_type": "markdown",
   "id": "4d5a78b5",
   "metadata": {},
   "source": [
    "### Basics der objektorientierten Programmierung\n",
    "- Klassendeklaration\n",
    "- Konstruktor\n",
    "- Vererbung\n",
    "- Kapselung\n",
    "- Klassenvariablen und Klassenmethoden"
   ]
  },
  {
   "cell_type": "markdown",
   "id": "f9e485d6",
   "metadata": {},
   "source": [
    "**Declaration**\n",
    "\n",
    "- Erstellen Sie eine Klasse mit einem Konstruktor, der bei der Instanziierung etwas printet\n",
    "- Erstellen Sie eine zweite Klasse, der bei der Instanziierung auch ein Übergabewert mitgegeben werden soll\n",
    "- Instanziieren Sie beide Klassen\n",
    "- Lassen Sie sich den Typ der Objekte ausgeben\n",
    "- Greifen Sie auf den Parameter des zweiten Objekts zu"
   ]
  },
  {
   "cell_type": "code",
   "execution_count": 1,
   "id": "a5d1167c",
   "metadata": {},
   "outputs": [],
   "source": [
    "class KlasseEins:\n",
    "    def __init__(self): # Konstuktor\n",
    "        print('KlasseEins-Objekt erstellen...')\n",
    "\n",
    "class KlasseZwei:\n",
    "    def __init__(self, parameter):\n",
    "        self.parameter = parameter\n",
    "        print('KlasseZwei-Objekt erstellen...')"
   ]
  },
  {
   "cell_type": "code",
   "execution_count": 2,
   "id": "01fd985c",
   "metadata": {},
   "outputs": [
    {
     "name": "stdout",
     "output_type": "stream",
     "text": [
      "KlasseEins-Objekt erstellen...\n",
      "KlasseZwei-Objekt erstellen...\n",
      "KlasseZwei-Objekt erstellen...\n"
     ]
    },
    {
     "data": {
      "text/plain": [
       "5"
      ]
     },
     "execution_count": 2,
     "metadata": {},
     "output_type": "execute_result"
    }
   ],
   "source": [
    "obj1 = KlasseEins()\n",
    "obj2 = KlasseZwei(3)\n",
    "obj3 = KlasseZwei(5)\n",
    "\n",
    "type(obj2)\n",
    "\n",
    "obj3.parameter"
   ]
  },
  {
   "cell_type": "markdown",
   "id": "dd36357b",
   "metadata": {},
   "source": [
    "**Properties und Attributes**\n",
    "\n",
    "- Erstellen Sie eine Klasse Raum mit einem Parameter size und temperature\n",
    "- Generieren Sie ein Objekt\n",
    "- Geben Sie die Temperatur aus, greifen Sie anschließend auf die Temperatur zu und ändern diese, um sie anschließend erneut auszugeben\n"
   ]
  },
  {
   "cell_type": "code",
   "execution_count": 4,
   "id": "ea0c3cfe",
   "metadata": {},
   "outputs": [],
   "source": [
    "class Room:\n",
    "    def __init__(self, size, temperature):\n",
    "        self.size = size\n",
    "        self.temperature = temperature"
   ]
  },
  {
   "cell_type": "code",
   "execution_count": 5,
   "id": "7afe7a71",
   "metadata": {},
   "outputs": [
    {
     "name": "stdout",
     "output_type": "stream",
     "text": [
      "24\n"
     ]
    },
    {
     "data": {
      "text/plain": [
       "-3000"
      ]
     },
     "execution_count": 5,
     "metadata": {},
     "output_type": "execute_result"
    }
   ],
   "source": [
    "room1 = Room(20,24)\n",
    "\n",
    "print(room1.temperature)\n",
    "\n",
    "room1.temperature = -3000\n",
    "\n",
    "room1.temperature"
   ]
  },
  {
   "cell_type": "markdown",
   "id": "a2c3f1d5",
   "metadata": {},
   "source": [
    "**Kapselung**\n",
    "\n",
    "- Erstellen Sie dieselbe Klasse Room, aber mit geschützten Variablen temperature und size\n",
    "- Testen Sie ob der Zugriff möglich ist und testen Sie dies sowohl für private als auch für protected size/temperature"
   ]
  },
  {
   "cell_type": "code",
   "execution_count": 6,
   "id": "e603f59f",
   "metadata": {},
   "outputs": [],
   "source": [
    "class Room:\n",
    "    def __init__(self, size, temperature):\n",
    "        self._size = size\n",
    "        self._temperature = temperature"
   ]
  },
  {
   "cell_type": "code",
   "execution_count": 7,
   "id": "59011953",
   "metadata": {},
   "outputs": [
    {
     "data": {
      "text/plain": [
       "34"
      ]
     },
     "execution_count": 7,
     "metadata": {},
     "output_type": "execute_result"
    }
   ],
   "source": [
    "# Convention in Python (Attributes starting with _ are NOT intended to be accessed from outside its class)\n",
    "\n",
    "room1 = Room(25,34)\n",
    "room1._temperature"
   ]
  },
  {
   "cell_type": "markdown",
   "id": "4a0a7e20",
   "metadata": {},
   "source": [
    "**@property / setter**\n",
    "\n",
    "- Erstellen Sie die Klasse Room erneut, diese Mal aber zusätzlich \n",
    "- für temperature und size jeweils eine @property-methode, mit der size und temperature abgerufen werden können\n",
    "- für temperature und size jeweils eine setter-Methode, mit der size und temperature festgelegt wreden können\n",
    "\n",
    "\n",
    "- Testen Sie die Klassen, indem Objekte erzeugt werden und auf die getter/setter-Methoden zugegriffen wird, um Werte auszugeben oder zu setzen "
   ]
  },
  {
   "cell_type": "code",
   "execution_count": null,
   "id": "1de38adb",
   "metadata": {},
   "outputs": [],
   "source": [
    "class Room:\n",
    "    def __init__(self, size, temperature):\n",
    "        self._size = size\n",
    "        self._temperature = temperature\n",
    "        \n",
    "    @property\n",
    "    def temperature(self):\n",
    "        return self._temperature\n",
    "    \n",
    "    @property\n",
    "    def temperature_kelvin(self):\n",
    "        return self._temperature + 273\n",
    "\n",
    "    @temperature.setter\n",
    "    def temperature(self, value):\n",
    "        if value < -273:\n",
    "            raise ValueError(\"Temperature below -273 is not possible\")\n",
    "        self._temperature = value"
   ]
  },
  {
   "cell_type": "code",
   "execution_count": null,
   "id": "e58c1920",
   "metadata": {},
   "outputs": [
    {
     "data": {
      "text/plain": [
       "307"
      ]
     },
     "execution_count": 9,
     "metadata": {},
     "output_type": "execute_result"
    }
   ],
   "source": [
    "room1 = Room(23, 34)\n",
    "room1.temperature_kelvin"
   ]
  },
  {
   "cell_type": "code",
   "execution_count": null,
   "id": "c023110d",
   "metadata": {},
   "outputs": [
    {
     "data": {
      "text/plain": [
       "-30"
      ]
     },
     "execution_count": 10,
     "metadata": {},
     "output_type": "execute_result"
    }
   ],
   "source": [
    "room1.temperature = -30\n",
    "room1.temperature"
   ]
  },
  {
   "cell_type": "code",
   "execution_count": 11,
   "id": "12007bb1",
   "metadata": {},
   "outputs": [
    {
     "data": {
      "text/plain": [
       "-30"
      ]
     },
     "execution_count": 11,
     "metadata": {},
     "output_type": "execute_result"
    }
   ],
   "source": [
    "room1.temperature"
   ]
  },
  {
   "cell_type": "markdown",
   "id": "8e4f234f",
   "metadata": {},
   "source": [
    "**Vererbung**\n",
    "- Erstellen Sie eine Klasse Person mit dem Attribut name\n",
    "- Erstellen Sie setter/getter-methode zur Abfrage/Eingabe des Namens\n",
    "- Erstellen Sie ein Objekt mit Namen und fragen Sie diesen ab"
   ]
  },
  {
   "cell_type": "code",
   "execution_count": 12,
   "id": "fd93d53c",
   "metadata": {},
   "outputs": [],
   "source": [
    "class Person:\n",
    "    def __init__(self, name):\n",
    "        self.name = name\n",
    "        \n",
    "    @property\n",
    "    def name(self):\n",
    "        return self._name\n",
    "\n",
    "    @name.setter\n",
    "    def name(self, value):\n",
    "        self._name = value"
   ]
  },
  {
   "cell_type": "code",
   "execution_count": null,
   "id": "ba934119",
   "metadata": {},
   "outputs": [
    {
     "data": {
      "text/plain": [
       "'Tim'"
      ]
     },
     "execution_count": 13,
     "metadata": {},
     "output_type": "execute_result"
    }
   ],
   "source": [
    "person = Person('Donald')\n",
    "person.name"
   ]
  },
  {
   "cell_type": "markdown",
   "id": "b1d1d955",
   "metadata": {},
   "source": [
    "- Erstllen Sie eine Klasse Student mit Attributen name und matriculation_nr\n",
    "- erstellen Sie setter/getter für beide Attribute\n",
    "- Erstellen Sie ein Studentenobjekt"
   ]
  },
  {
   "cell_type": "code",
   "execution_count": 14,
   "id": "d8b9a522",
   "metadata": {},
   "outputs": [],
   "source": [
    "class Student:\n",
    "    def __init__(self, name, matriculation_nr):\n",
    "        self.name = name\n",
    "        self.matriculation_nr = matriculation_nr\n",
    "        \n",
    "    @property\n",
    "    def name(self):\n",
    "        return self._name\n",
    "\n",
    "    @name.setter\n",
    "    def name(self, value):\n",
    "        self._name = value\n",
    "        \n",
    "    @property\n",
    "    def matriculation_nr(self):\n",
    "        return self._matriculation_nr\n",
    "\n",
    "    @matriculation_nr.setter\n",
    "    def matriculation_nr(self, value):\n",
    "        self._matriculation_nr = value"
   ]
  },
  {
   "cell_type": "code",
   "execution_count": null,
   "id": "47a5a85e",
   "metadata": {},
   "outputs": [
    {
     "data": {
      "text/plain": [
       "1234"
      ]
     },
     "execution_count": 15,
     "metadata": {},
     "output_type": "execute_result"
    }
   ],
   "source": [
    "student = Student('Donald', 1234)\n",
    "student.matriculation_nr"
   ]
  },
  {
   "cell_type": "markdown",
   "id": "7bdc43e4",
   "metadata": {},
   "source": [
    "- Erstellen Sie jetzt eine Klasse Student, die von Person erbt und somit den Elternkonstruktor übernimmt und um die Matrikelnummer ergänzt\n",
    "- wie oben setter/getter + instanziieren"
   ]
  },
  {
   "cell_type": "code",
   "execution_count": 16,
   "id": "34e73912",
   "metadata": {},
   "outputs": [],
   "source": [
    "class Student(Person):\n",
    "    def __init__(self, name, matriculation_nr):\n",
    "        super().__init__(name)\n",
    "        self.matriculation_nr = matriculation_nr\n",
    "        \n",
    "    @property\n",
    "    def matriculation_nr(self):\n",
    "        return self._matriculation_nr\n",
    "\n",
    "    @matriculation_nr.setter\n",
    "    def matriculation_nr(self, value):\n",
    "        self._matriculation_nr = value"
   ]
  },
  {
   "cell_type": "code",
   "execution_count": 1,
   "id": "49be185e",
   "metadata": {},
   "outputs": [
    {
     "ename": "NameError",
     "evalue": "name 'Student' is not defined",
     "output_type": "error",
     "traceback": [
      "\u001b[1;31m---------------------------------------------------------------------------\u001b[0m",
      "\u001b[1;31mNameError\u001b[0m                                 Traceback (most recent call last)",
      "Cell \u001b[1;32mIn[1], line 1\u001b[0m\n\u001b[1;32m----> 1\u001b[0m student \u001b[38;5;241m=\u001b[39m Student(\u001b[38;5;124m'\u001b[39m\u001b[38;5;124mDonald\u001b[39m\u001b[38;5;124m'\u001b[39m, \u001b[38;5;241m1234\u001b[39m)\n\u001b[0;32m      2\u001b[0m student\u001b[38;5;241m.\u001b[39mname\n",
      "\u001b[1;31mNameError\u001b[0m: name 'Student' is not defined"
     ]
    }
   ],
   "source": [
    "student = Student('Donald', 1234)\n",
    "student.name"
   ]
  },
  {
   "cell_type": "markdown",
   "id": "8bfaa70b",
   "metadata": {},
   "source": [
    "- Erstellen Sie eine Klasse Employee, die ebenfalls von Person erbt und zusätzlich eine Mitarbeitenden-Nr employee_nr besitzt und instanziieren Sie diese"
   ]
  },
  {
   "cell_type": "code",
   "execution_count": 18,
   "id": "8385ddc9",
   "metadata": {},
   "outputs": [],
   "source": [
    "class Employee(Person):\n",
    "    def __init__(self, name, employee_nr):\n",
    "        super().__init__(name)\n",
    "        self.employee_nr = employee_nr\n",
    "        \n",
    "    @property\n",
    "    def employee_nr(self):\n",
    "        return self._employee_nr\n",
    "\n",
    "    @employee_nr.setter\n",
    "    def employee_nr(self, value):\n",
    "        self._employee_nr = value"
   ]
  },
  {
   "cell_type": "code",
   "execution_count": null,
   "id": "a6814f8d",
   "metadata": {},
   "outputs": [
    {
     "data": {
      "text/plain": [
       "1234"
      ]
     },
     "execution_count": 19,
     "metadata": {},
     "output_type": "execute_result"
    }
   ],
   "source": [
    "employee1 = Employee('Donald', 5678)\n",
    "employee1.name\n",
    "student.matriculation_nr"
   ]
  },
  {
   "cell_type": "markdown",
   "id": "6f79a601",
   "metadata": {},
   "source": [
    "### Klassenvariablen\n",
    "\n",
    "Nutze die Basisklasse Person:"
   ]
  },
  {
   "cell_type": "code",
   "execution_count": 2,
   "id": "7bfefc03",
   "metadata": {},
   "outputs": [],
   "source": [
    "class Person:\n",
    "    def __init__(self, name):\n",
    "        self.name = name\n",
    "        \n",
    "    @property\n",
    "    def name(self):\n",
    "        return self._name\n",
    "\n",
    "    @name.setter\n",
    "    def name(self, value):\n",
    "        self._name = value"
   ]
  },
  {
   "cell_type": "markdown",
   "id": "78f60519",
   "metadata": {},
   "source": [
    "- Erstellen Sie eine Unterklasse Student, die zusätzlich ein Studienfach speichert.\n",
    "- Fügen Sie eine Klassenvariable anzahl_studenten hinzu, die mitzählt, wieviele Student-Objekte erzeugt wurden.\n",
    "- Implementieren Sie eine @classmethod, die die aktuelle Anzahl an Student*innen ausgibt.\n",
    "- Erzeugen Sie mehrere Student-Objekte und rufen Sie zeige_anzahl() auf. \n",
    "- Fügen Sie eine weitere Klassenvariable hinzu: studiengang_zaehler als Dictionary, das zählt, wie viele Studierende pro Fach eingeschrieben sind.\n",
    "- fügen Sie die Klassenmethode zeige_fachstatistik hinzu, die die Anzahl der eingeschriebenen STudierenden pro Fach ausgibt\n"
   ]
  },
  {
   "cell_type": "code",
   "execution_count": 4,
   "id": "d5d2c592",
   "metadata": {},
   "outputs": [],
   "source": [
    "class Student(Person):\n",
    "    anzahl_studenten = 0\n",
    "    studiengang_zaehler = {}\n",
    "\n",
    "    def __init__(self, name, fach):\n",
    "        super().__init__(name)\n",
    "        self.fach = fach\n",
    "        Student.anzahl_studenten += 1\n",
    "\n",
    "        if fach in Student.studiengang_zaehler:\n",
    "            Student.studiengang_zaehler[fach] += 1\n",
    "        else:\n",
    "            Student.studiengang_zaehler[fach] = 1\n",
    "\n",
    "    @classmethod\n",
    "    def zeige_anzahl(cls):\n",
    "        print(f\"Aktuell {cls.anzahl_studenten} Studierende.\")\n",
    "\n",
    "    @classmethod\n",
    "    def zeige_fachstatistik(cls):\n",
    "        print(\"Studiengänge:\", cls.studiengang_zaehler)"
   ]
  },
  {
   "cell_type": "markdown",
   "id": "350bf66c",
   "metadata": {},
   "source": [
    "- Erstellen Sie zwei Studierende\n",
    "- geben Sie die Gesamtzahl der Studierenden aus\n",
    "- Erstellen Sie eine dritte Studentin, rufen Sie anschließend die Klassenvariable zeige_fachstatistik auf"
   ]
  },
  {
   "cell_type": "code",
   "execution_count": 5,
   "id": "9e51b6a0",
   "metadata": {},
   "outputs": [
    {
     "name": "stdout",
     "output_type": "stream",
     "text": [
      "Aktuell 2 Studierende.\n"
     ]
    }
   ],
   "source": [
    "s1 = Student(\"Anna\", \"Physik\")\n",
    "s2 = Student(\"Ben\", \"Informatik\")\n",
    "\n",
    "Student.zeige_anzahl()"
   ]
  },
  {
   "cell_type": "code",
   "execution_count": 6,
   "id": "83c2bd3f",
   "metadata": {},
   "outputs": [
    {
     "name": "stdout",
     "output_type": "stream",
     "text": [
      "Studiengänge: {'Physik': 2, 'Informatik': 1}\n"
     ]
    }
   ],
   "source": [
    "s3 = Student(\"Clara\", \"Physik\")\n",
    "\n",
    "Student.zeige_fachstatistik()"
   ]
  }
 ],
 "metadata": {
  "kernelspec": {
   "display_name": "prog2",
   "language": "python",
   "name": "python3"
  },
  "language_info": {
   "codemirror_mode": {
    "name": "ipython",
    "version": 3
   },
   "file_extension": ".py",
   "mimetype": "text/x-python",
   "name": "python",
   "nbconvert_exporter": "python",
   "pygments_lexer": "ipython3",
   "version": "3.12.9"
  }
 },
 "nbformat": 4,
 "nbformat_minor": 5
}
